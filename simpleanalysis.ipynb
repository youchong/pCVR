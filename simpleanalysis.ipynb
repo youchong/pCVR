{
 "cells": [
  {
   "cell_type": "code",
   "execution_count": 1,
   "metadata": {
    "collapsed": true
   },
   "outputs": [],
   "source": [
    "# data analysis and wrangling\n",
    "import pandas as pd\n",
    "import numpy as np\n",
    "import random as rnd\n",
    "\n",
    "# visualization\n",
    "import seaborn as sns\n",
    "import matplotlib.pyplot as plt\n",
    "%matplotlib inline"
   ]
  },
  {
   "cell_type": "code",
   "execution_count": 2,
   "metadata": {
    "collapsed": true
   },
   "outputs": [],
   "source": [
    "data=pd.read_csv('Features/raw/alldata.csv')"
   ]
  },
  {
   "cell_type": "code",
   "execution_count": 3,
   "metadata": {},
   "outputs": [
    {
     "data": {
      "text/plain": [
       "(41234657, 23)"
      ]
     },
     "execution_count": 3,
     "metadata": {},
     "output_type": "execute_result"
    }
   ],
   "source": [
    "data.shape"
   ]
  },
  {
   "cell_type": "code",
   "execution_count": 4,
   "metadata": {
    "collapsed": true
   },
   "outputs": [],
   "source": [
    "data=data.head(41234657-3321748)"
   ]
  },
  {
   "cell_type": "code",
   "execution_count": 5,
   "metadata": {},
   "outputs": [
    {
     "data": {
      "text/html": [
       "<div>\n",
       "<style>\n",
       "    .dataframe thead tr:only-child th {\n",
       "        text-align: right;\n",
       "    }\n",
       "\n",
       "    .dataframe thead th {\n",
       "        text-align: left;\n",
       "    }\n",
       "\n",
       "    .dataframe tbody tr th {\n",
       "        vertical-align: top;\n",
       "    }\n",
       "</style>\n",
       "<table border=\"1\" class=\"dataframe\">\n",
       "  <thead>\n",
       "    <tr style=\"text-align: right;\">\n",
       "      <th></th>\n",
       "      <th>clickTime</th>\n",
       "      <th>connectionType</th>\n",
       "      <th>conversionTime</th>\n",
       "      <th>creativeID</th>\n",
       "      <th>label</th>\n",
       "      <th>positionID</th>\n",
       "      <th>telecomsOperator</th>\n",
       "      <th>userID</th>\n",
       "      <th>adID</th>\n",
       "      <th>camgaignID</th>\n",
       "      <th>...</th>\n",
       "      <th>appCategory</th>\n",
       "      <th>age</th>\n",
       "      <th>gender</th>\n",
       "      <th>education</th>\n",
       "      <th>marriageStatus</th>\n",
       "      <th>haveBaby</th>\n",
       "      <th>hometown</th>\n",
       "      <th>residence</th>\n",
       "      <th>sitesetID</th>\n",
       "      <th>positionType</th>\n",
       "    </tr>\n",
       "  </thead>\n",
       "  <tbody>\n",
       "    <tr>\n",
       "      <th>37912904</th>\n",
       "      <td>302359</td>\n",
       "      <td>1</td>\n",
       "      <td>NaN</td>\n",
       "      <td>7151</td>\n",
       "      <td>0</td>\n",
       "      <td>1638</td>\n",
       "      <td>1</td>\n",
       "      <td>1079646</td>\n",
       "      <td>13750</td>\n",
       "      <td>4728</td>\n",
       "      <td>...</td>\n",
       "      <td>101</td>\n",
       "      <td>25</td>\n",
       "      <td>1</td>\n",
       "      <td>5</td>\n",
       "      <td>1</td>\n",
       "      <td>0</td>\n",
       "      <td>2203</td>\n",
       "      <td>2201</td>\n",
       "      <td>0</td>\n",
       "      <td>1</td>\n",
       "    </tr>\n",
       "    <tr>\n",
       "      <th>37912905</th>\n",
       "      <td>302359</td>\n",
       "      <td>1</td>\n",
       "      <td>NaN</td>\n",
       "      <td>14079</td>\n",
       "      <td>0</td>\n",
       "      <td>4252</td>\n",
       "      <td>3</td>\n",
       "      <td>12368367</td>\n",
       "      <td>11247</td>\n",
       "      <td>5297</td>\n",
       "      <td>...</td>\n",
       "      <td>0</td>\n",
       "      <td>21</td>\n",
       "      <td>1</td>\n",
       "      <td>1</td>\n",
       "      <td>0</td>\n",
       "      <td>0</td>\n",
       "      <td>801</td>\n",
       "      <td>801</td>\n",
       "      <td>0</td>\n",
       "      <td>2</td>\n",
       "    </tr>\n",
       "    <tr>\n",
       "      <th>37912906</th>\n",
       "      <td>302359</td>\n",
       "      <td>1</td>\n",
       "      <td>NaN</td>\n",
       "      <td>8200</td>\n",
       "      <td>0</td>\n",
       "      <td>5639</td>\n",
       "      <td>3</td>\n",
       "      <td>14873041</td>\n",
       "      <td>20869</td>\n",
       "      <td>1296</td>\n",
       "      <td>...</td>\n",
       "      <td>104</td>\n",
       "      <td>29</td>\n",
       "      <td>1</td>\n",
       "      <td>5</td>\n",
       "      <td>1</td>\n",
       "      <td>0</td>\n",
       "      <td>611</td>\n",
       "      <td>611</td>\n",
       "      <td>0</td>\n",
       "      <td>1</td>\n",
       "    </tr>\n",
       "    <tr>\n",
       "      <th>37912907</th>\n",
       "      <td>302359</td>\n",
       "      <td>1</td>\n",
       "      <td>NaN</td>\n",
       "      <td>3586</td>\n",
       "      <td>0</td>\n",
       "      <td>7149</td>\n",
       "      <td>1</td>\n",
       "      <td>89477</td>\n",
       "      <td>2238</td>\n",
       "      <td>637</td>\n",
       "      <td>...</td>\n",
       "      <td>209</td>\n",
       "      <td>31</td>\n",
       "      <td>1</td>\n",
       "      <td>1</td>\n",
       "      <td>0</td>\n",
       "      <td>0</td>\n",
       "      <td>1501</td>\n",
       "      <td>505</td>\n",
       "      <td>0</td>\n",
       "      <td>1</td>\n",
       "    </tr>\n",
       "    <tr>\n",
       "      <th>37912908</th>\n",
       "      <td>302359</td>\n",
       "      <td>0</td>\n",
       "      <td>NaN</td>\n",
       "      <td>29543</td>\n",
       "      <td>0</td>\n",
       "      <td>2426</td>\n",
       "      <td>3</td>\n",
       "      <td>12482915</td>\n",
       "      <td>5975</td>\n",
       "      <td>3148</td>\n",
       "      <td>...</td>\n",
       "      <td>104</td>\n",
       "      <td>23</td>\n",
       "      <td>1</td>\n",
       "      <td>5</td>\n",
       "      <td>0</td>\n",
       "      <td>2</td>\n",
       "      <td>1005</td>\n",
       "      <td>1001</td>\n",
       "      <td>0</td>\n",
       "      <td>1</td>\n",
       "    </tr>\n",
       "  </tbody>\n",
       "</table>\n",
       "<p>5 rows × 23 columns</p>\n",
       "</div>"
      ],
      "text/plain": [
       "          clickTime  connectionType  conversionTime  creativeID  label  \\\n",
       "37912904     302359               1             NaN        7151      0   \n",
       "37912905     302359               1             NaN       14079      0   \n",
       "37912906     302359               1             NaN        8200      0   \n",
       "37912907     302359               1             NaN        3586      0   \n",
       "37912908     302359               0             NaN       29543      0   \n",
       "\n",
       "          positionID  telecomsOperator    userID   adID  camgaignID  \\\n",
       "37912904        1638                 1   1079646  13750        4728   \n",
       "37912905        4252                 3  12368367  11247        5297   \n",
       "37912906        5639                 3  14873041  20869        1296   \n",
       "37912907        7149                 1     89477   2238         637   \n",
       "37912908        2426                 3  12482915   5975        3148   \n",
       "\n",
       "              ...       appCategory  age  gender  education  marriageStatus  \\\n",
       "37912904      ...               101   25       1          5               1   \n",
       "37912905      ...                 0   21       1          1               0   \n",
       "37912906      ...               104   29       1          5               1   \n",
       "37912907      ...               209   31       1          1               0   \n",
       "37912908      ...               104   23       1          5               0   \n",
       "\n",
       "          haveBaby  hometown  residence  sitesetID  positionType  \n",
       "37912904         0      2203       2201          0             1  \n",
       "37912905         0       801        801          0             2  \n",
       "37912906         0       611        611          0             1  \n",
       "37912907         0      1501        505          0             1  \n",
       "37912908         2      1005       1001          0             1  \n",
       "\n",
       "[5 rows x 23 columns]"
      ]
     },
     "execution_count": 5,
     "metadata": {},
     "output_type": "execute_result"
    }
   ],
   "source": [
    "data.tail()"
   ]
  },
  {
   "cell_type": "code",
   "execution_count": 8,
   "metadata": {},
   "outputs": [
    {
     "name": "stderr",
     "output_type": "stream",
     "text": [
      "/root/anaconda3/lib/python3.6/site-packages/matplotlib/font_manager.py:1297: UserWarning: findfont: Font family ['sans-serif'] not found. Falling back to DejaVu Sans\n",
      "  (prop.get_family(), self.defaultFamily[fontext]))\n"
     ]
    },
    {
     "data": {
      "text/plain": [
       "<seaborn.axisgrid.FacetGrid at 0x7fe5610b8d68>"
      ]
     },
     "execution_count": 8,
     "metadata": {},
     "output_type": "execute_result"
    },
    {
     "data": {
      "image/png": "[encoded data removed]",
      "text/plain": [
       "<matplotlib.figure.Figure at 0x7fe5610b89e8>"
      ]
     },
     "metadata": {},
     "output_type": "display_data"
    }
   ],
   "source": [
    "g = sns.FacetGrid(data[['label','age']], col='label')\n",
    "g.map(plt.hist, 'age', bins=20)"
   ]
  },
  {
   "cell_type": "code",
   "execution_count": 14,
   "metadata": {},
   "outputs": [
    {
     "name": "stderr",
     "output_type": "stream",
     "text": [
      "/root/anaconda3/lib/python3.6/site-packages/matplotlib/font_manager.py:1297: UserWarning: findfont: Font family ['sans-serif'] not found. Falling back to DejaVu Sans\n",
      "  (prop.get_family(), self.defaultFamily[fontext]))\n"
     ]
    },
    {
     "data": {
      "text/plain": [
       "<seaborn.axisgrid.FacetGrid at 0x7fe55d4f8dd8>"
      ]
     },
     "execution_count": 14,
     "metadata": {},
     "output_type": "execute_result"
    },
    {
     "data": {
      "image/png": "[encoded data removed]",
      "text/plain": [
       "<matplotlib.figure.Figure at 0x7fe55d3ef710>"
      ]
     },
     "metadata": {},
     "output_type": "display_data"
    }
   ],
   "source": [
    "g = sns.FacetGrid(data[['label','telecomsOperator']],col='label')\n",
    "g.map(plt.hist, 'telecomsOperator', bins=20)"
   ]
  },
  {
   "cell_type": "code",
   "execution_count": 15,
   "metadata": {},
   "outputs": [
    {
     "name": "stderr",
     "output_type": "stream",
     "text": [
      "/root/anaconda3/lib/python3.6/site-packages/matplotlib/font_manager.py:1297: UserWarning: findfont: Font family ['sans-serif'] not found. Falling back to DejaVu Sans\n",
      "  (prop.get_family(), self.defaultFamily[fontext]))\n"
     ]
    },
    {
     "data": {
      "text/plain": [
       "<seaborn.axisgrid.FacetGrid at 0x7fe54b070518>"
      ]
     },
     "execution_count": 15,
     "metadata": {},
     "output_type": "execute_result"
    },
    {
     "data": {
      "image/png": "[encoded data removed]",
      "text/plain": [
       "<matplotlib.figure.Figure at 0x7fe54b099710>"
      ]
     },
     "metadata": {},
     "output_type": "display_data"
    }
   ],
   "source": [
    "g = sns.FacetGrid(data[['label','gender']],col='label')\n",
    "g.map(plt.hist, 'gender', bins=20)"
   ]
  },
  {
   "cell_type": "code",
   "execution_count": 18,
   "metadata": {},
   "outputs": [
    {
     "name": "stderr",
     "output_type": "stream",
     "text": [
      "/root/anaconda3/lib/python3.6/site-packages/matplotlib/font_manager.py:1297: UserWarning: findfont: Font family ['sans-serif'] not found. Falling back to DejaVu Sans\n",
      "  (prop.get_family(), self.defaultFamily[fontext]))\n"
     ]
    },
    {
     "data": {
      "text/plain": [
       "<seaborn.axisgrid.FacetGrid at 0x7fe54ae3dba8>"
      ]
     },
     "execution_count": 18,
     "metadata": {},
     "output_type": "execute_result"
    },
    {
     "data": {
      "image/png": "[encoded data removed]",
      "text/plain": [
       "<matplotlib.figure.Figure at 0x7fe54ae979e8>"
      ]
     },
     "metadata": {},
     "output_type": "display_data"
    }
   ],
   "source": [
    "grid = sns.FacetGrid(data[['label','telecomsOperator','gender','marriageStatus']], row='telecomsOperator', size=2.2, aspect=1.6)\n",
    "grid.map(sns.pointplot, 'marriageStatus', 'label', 'gender', palette='deep')\n",
    "grid.add_legend()"
   ]
  },
  {
   "cell_type": "code",
   "execution_count": 6,
   "metadata": {},
   "outputs": [
    {
     "data": {
      "text/html": [
       "<div>\n",
       "<style>\n",
       "    .dataframe thead tr:only-child th {\n",
       "        text-align: right;\n",
       "    }\n",
       "\n",
       "    .dataframe thead th {\n",
       "        text-align: left;\n",
       "    }\n",
       "\n",
       "    .dataframe tbody tr th {\n",
       "        vertical-align: top;\n",
       "    }\n",
       "</style>\n",
       "<table border=\"1\" class=\"dataframe\">\n",
       "  <thead>\n",
       "    <tr style=\"text-align: right;\">\n",
       "      <th></th>\n",
       "      <th>clickTime</th>\n",
       "      <th>connectionType</th>\n",
       "      <th>conversionTime</th>\n",
       "      <th>creativeID</th>\n",
       "      <th>label</th>\n",
       "      <th>positionID</th>\n",
       "      <th>telecomsOperator</th>\n",
       "      <th>userID</th>\n",
       "      <th>adID</th>\n",
       "      <th>camgaignID</th>\n",
       "      <th>...</th>\n",
       "      <th>appCategory</th>\n",
       "      <th>age</th>\n",
       "      <th>gender</th>\n",
       "      <th>education</th>\n",
       "      <th>marriageStatus</th>\n",
       "      <th>haveBaby</th>\n",
       "      <th>hometown</th>\n",
       "      <th>residence</th>\n",
       "      <th>sitesetID</th>\n",
       "      <th>positionType</th>\n",
       "    </tr>\n",
       "  </thead>\n",
       "  <tbody>\n",
       "    <tr>\n",
       "      <th>0</th>\n",
       "      <td>170000</td>\n",
       "      <td>1</td>\n",
       "      <td>NaN</td>\n",
       "      <td>31746</td>\n",
       "      <td>0</td>\n",
       "      <td>4522</td>\n",
       "      <td>1</td>\n",
       "      <td>6762540</td>\n",
       "      <td>11261</td>\n",
       "      <td>2634</td>\n",
       "      <td>...</td>\n",
       "      <td>104</td>\n",
       "      <td>21</td>\n",
       "      <td>1</td>\n",
       "      <td>2</td>\n",
       "      <td>1</td>\n",
       "      <td>0</td>\n",
       "      <td>1409</td>\n",
       "      <td>0</td>\n",
       "      <td>2</td>\n",
       "      <td>0</td>\n",
       "    </tr>\n",
       "    <tr>\n",
       "      <th>1</th>\n",
       "      <td>170000</td>\n",
       "      <td>1</td>\n",
       "      <td>NaN</td>\n",
       "      <td>48795</td>\n",
       "      <td>0</td>\n",
       "      <td>4289</td>\n",
       "      <td>1</td>\n",
       "      <td>532848</td>\n",
       "      <td>18112</td>\n",
       "      <td>4938</td>\n",
       "      <td>...</td>\n",
       "      <td>503</td>\n",
       "      <td>23</td>\n",
       "      <td>2</td>\n",
       "      <td>1</td>\n",
       "      <td>0</td>\n",
       "      <td>0</td>\n",
       "      <td>314</td>\n",
       "      <td>2301</td>\n",
       "      <td>0</td>\n",
       "      <td>2</td>\n",
       "    </tr>\n",
       "    <tr>\n",
       "      <th>2</th>\n",
       "      <td>170000</td>\n",
       "      <td>1</td>\n",
       "      <td>NaN</td>\n",
       "      <td>6615</td>\n",
       "      <td>0</td>\n",
       "      <td>3255</td>\n",
       "      <td>1</td>\n",
       "      <td>19616027</td>\n",
       "      <td>15400</td>\n",
       "      <td>5397</td>\n",
       "      <td>...</td>\n",
       "      <td>201</td>\n",
       "      <td>13</td>\n",
       "      <td>1</td>\n",
       "      <td>0</td>\n",
       "      <td>0</td>\n",
       "      <td>0</td>\n",
       "      <td>308</td>\n",
       "      <td>308</td>\n",
       "      <td>0</td>\n",
       "      <td>3</td>\n",
       "    </tr>\n",
       "    <tr>\n",
       "      <th>3</th>\n",
       "      <td>170000</td>\n",
       "      <td>1</td>\n",
       "      <td>NaN</td>\n",
       "      <td>35911</td>\n",
       "      <td>0</td>\n",
       "      <td>7422</td>\n",
       "      <td>1</td>\n",
       "      <td>8128760</td>\n",
       "      <td>21961</td>\n",
       "      <td>6208</td>\n",
       "      <td>...</td>\n",
       "      <td>0</td>\n",
       "      <td>25</td>\n",
       "      <td>1</td>\n",
       "      <td>1</td>\n",
       "      <td>1</td>\n",
       "      <td>0</td>\n",
       "      <td>503</td>\n",
       "      <td>1105</td>\n",
       "      <td>0</td>\n",
       "      <td>1</td>\n",
       "    </tr>\n",
       "    <tr>\n",
       "      <th>4</th>\n",
       "      <td>170000</td>\n",
       "      <td>1</td>\n",
       "      <td>NaN</td>\n",
       "      <td>9187</td>\n",
       "      <td>0</td>\n",
       "      <td>7219</td>\n",
       "      <td>1</td>\n",
       "      <td>2748335</td>\n",
       "      <td>31059</td>\n",
       "      <td>5750</td>\n",
       "      <td>...</td>\n",
       "      <td>201</td>\n",
       "      <td>31</td>\n",
       "      <td>1</td>\n",
       "      <td>2</td>\n",
       "      <td>2</td>\n",
       "      <td>0</td>\n",
       "      <td>112</td>\n",
       "      <td>0</td>\n",
       "      <td>0</td>\n",
       "      <td>3</td>\n",
       "    </tr>\n",
       "  </tbody>\n",
       "</table>\n",
       "<p>5 rows × 23 columns</p>\n",
       "</div>"
      ],
      "text/plain": [
       "   clickTime  connectionType  conversionTime  creativeID  label  positionID  \\\n",
       "0     170000               1             NaN       31746      0        4522   \n",
       "1     170000               1             NaN       48795      0        4289   \n",
       "2     170000               1             NaN        6615      0        3255   \n",
       "3     170000               1             NaN       35911      0        7422   \n",
       "4     170000               1             NaN        9187      0        7219   \n",
       "\n",
       "   telecomsOperator    userID   adID  camgaignID      ...       appCategory  \\\n",
       "0                 1   6762540  11261        2634      ...               104   \n",
       "1                 1    532848  18112        4938      ...               503   \n",
       "2                 1  19616027  15400        5397      ...               201   \n",
       "3                 1   8128760  21961        6208      ...                 0   \n",
       "4                 1   2748335  31059        5750      ...               201   \n",
       "\n",
       "   age  gender  education  marriageStatus  haveBaby  hometown  residence  \\\n",
       "0   21       1          2               1         0      1409          0   \n",
       "1   23       2          1               0         0       314       2301   \n",
       "2   13       1          0               0         0       308        308   \n",
       "3   25       1          1               1         0       503       1105   \n",
       "4   31       1          2               2         0       112          0   \n",
       "\n",
       "   sitesetID  positionType  \n",
       "0          2             0  \n",
       "1          0             2  \n",
       "2          0             3  \n",
       "3          0             1  \n",
       "4          0             3  \n",
       "\n",
       "[5 rows x 23 columns]"
      ]
     },
     "execution_count": 6,
     "metadata": {},
     "output_type": "execute_result"
    }
   ],
   "source": [
    "data.head()"
   ]
  },
  {
   "cell_type": "code",
   "execution_count": 7,
   "metadata": {},
   "outputs": [
    {
     "data": {
      "text/plain": [
       "array(['clickTime', 'connectionType', 'conversionTime', 'creativeID',\n",
       "       'label', 'positionID', 'telecomsOperator', 'userID', 'adID',\n",
       "       'camgaignID', 'advertiserID', 'appID', 'appPlatform', 'appCategory',\n",
       "       'age', 'gender', 'education', 'marriageStatus', 'haveBaby',\n",
       "       'hometown', 'residence', 'sitesetID', 'positionType'], dtype=object)"
      ]
     },
     "execution_count": 7,
     "metadata": {},
     "output_type": "execute_result"
    }
   ],
   "source": [
    "data.columns.values"
   ]
  },
  {
   "cell_type": "code",
   "execution_count": 30,
   "metadata": {},
   "outputs": [
    {
     "data": {
      "text/html": [
       "<div>\n",
       "<style>\n",
       "    .dataframe thead tr:only-child th {\n",
       "        text-align: right;\n",
       "    }\n",
       "\n",
       "    .dataframe thead th {\n",
       "        text-align: left;\n",
       "    }\n",
       "\n",
       "    .dataframe tbody tr th {\n",
       "        vertical-align: top;\n",
       "    }\n",
       "</style>\n",
       "<table border=\"1\" class=\"dataframe\">\n",
       "  <thead>\n",
       "    <tr style=\"text-align: right;\">\n",
       "      <th></th>\n",
       "      <th>sitesetID</th>\n",
       "      <th>label</th>\n",
       "    </tr>\n",
       "  </thead>\n",
       "  <tbody>\n",
       "    <tr>\n",
       "      <th>1</th>\n",
       "      <td>1</td>\n",
       "      <td>0.044329</td>\n",
       "    </tr>\n",
       "    <tr>\n",
       "      <th>2</th>\n",
       "      <td>2</td>\n",
       "      <td>0.024991</td>\n",
       "    </tr>\n",
       "    <tr>\n",
       "      <th>0</th>\n",
       "      <td>0</td>\n",
       "      <td>0.015743</td>\n",
       "    </tr>\n",
       "  </tbody>\n",
       "</table>\n",
       "</div>"
      ],
      "text/plain": [
       "   sitesetID     label\n",
       "1          1  0.044329\n",
       "2          2  0.024991\n",
       "0          0  0.015743"
      ]
     },
     "execution_count": 30,
     "metadata": {},
     "output_type": "execute_result"
    }
   ],
   "source": [
    "data[['sitesetID', 'label']].groupby(['sitesetID'], as_index=False).mean().sort_values(by='label', ascending=False)"
   ]
  },
  {
   "cell_type": "code",
   "execution_count": 25,
   "metadata": {},
   "outputs": [
    {
     "data": {
      "text/plain": [
       "(21488,)"
      ]
     },
     "execution_count": 25,
     "metadata": {},
     "output_type": "execute_result"
    }
   ],
   "source": [
    "data['positionID'].value_counts().shape"
   ]
  },
  {
   "cell_type": "code",
   "execution_count": 27,
   "metadata": {},
   "outputs": [
    {
     "data": {
      "text/html": [
       "<div>\n",
       "<style>\n",
       "    .dataframe thead tr:only-child th {\n",
       "        text-align: right;\n",
       "    }\n",
       "\n",
       "    .dataframe thead th {\n",
       "        text-align: left;\n",
       "    }\n",
       "\n",
       "    .dataframe tbody tr th {\n",
       "        vertical-align: top;\n",
       "    }\n",
       "</style>\n",
       "<table border=\"1\" class=\"dataframe\">\n",
       "  <thead>\n",
       "    <tr style=\"text-align: right;\">\n",
       "      <th></th>\n",
       "      <th>positionType</th>\n",
       "      <th>label</th>\n",
       "    </tr>\n",
       "  </thead>\n",
       "  <tbody>\n",
       "    <tr>\n",
       "      <th>5</th>\n",
       "      <td>5</td>\n",
       "      <td>0.121022</td>\n",
       "    </tr>\n",
       "    <tr>\n",
       "      <th>0</th>\n",
       "      <td>0</td>\n",
       "      <td>0.042576</td>\n",
       "    </tr>\n",
       "    <tr>\n",
       "      <th>1</th>\n",
       "      <td>1</td>\n",
       "      <td>0.018911</td>\n",
       "    </tr>\n",
       "    <tr>\n",
       "      <th>3</th>\n",
       "      <td>3</td>\n",
       "      <td>0.011680</td>\n",
       "    </tr>\n",
       "    <tr>\n",
       "      <th>2</th>\n",
       "      <td>2</td>\n",
       "      <td>0.010601</td>\n",
       "    </tr>\n",
       "    <tr>\n",
       "      <th>4</th>\n",
       "      <td>4</td>\n",
       "      <td>0.006069</td>\n",
       "    </tr>\n",
       "  </tbody>\n",
       "</table>\n",
       "</div>"
      ],
      "text/plain": [
       "   positionType     label\n",
       "5             5  0.121022\n",
       "0             0  0.042576\n",
       "1             1  0.018911\n",
       "3             3  0.011680\n",
       "2             2  0.010601\n",
       "4             4  0.006069"
      ]
     },
     "execution_count": 27,
     "metadata": {},
     "output_type": "execute_result"
    }
   ],
   "source": [
    "data[['positionType', 'label']].groupby(['positionType'], as_index=False).mean().sort_values(by='label', ascending=False)"
   ]
  },
  {
   "cell_type": "code",
   "execution_count": null,
   "metadata": {
    "collapsed": true
   },
   "outputs": [],
   "source": []
  }
 ],
 "metadata": {
  "kernelspec": {
   "display_name": "Python 3",
   "language": "python",
   "name": "python3"
  },
  "language_info": {
   "codemirror_mode": {
    "name": "ipython",
    "version": 3
   },
   "file_extension": ".py",
   "mimetype": "text/x-python",
   "name": "python",
   "nbconvert_exporter": "python",
   "pygments_lexer": "ipython3",
   "version": "3.6.1"
  }
 },
 "nbformat": 4,
 "nbformat_minor": 2
}
