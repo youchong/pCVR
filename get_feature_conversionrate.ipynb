{
 "cells": [
  {
   "cell_type": "code",
   "execution_count": 1,
   "metadata": {
    "collapsed": true
   },
   "outputs": [],
   "source": [
    "import pandas as pd\n",
    "import numpy as np\n",
    "import random as rnd"
   ]
  },
  {
   "cell_type": "code",
   "execution_count": 2,
   "metadata": {
    "collapsed": true
   },
   "outputs": [],
   "source": [
    "cvr=pd.read_csv('Features/oned_stat.csv')"
   ]
  },
  {
   "cell_type": "code",
   "execution_count": 7,
   "metadata": {},
   "outputs": [
    {
     "data": {
      "text/plain": [
       "array(['creativeIDconvrate', 'positionIDconvrate', 'camgaignID_convrate',\n",
       "       'advertiserID_convrate', 'appID_convrate', 'adID_convrate',\n",
       "       'hometown_convrate', 'residence_convrate', 'appCategory_convrate'], dtype=object)"
      ]
     },
     "execution_count": 7,
     "metadata": {},
     "output_type": "execute_result"
    }
   ],
   "source": [
    "cvr.columns.values"
   ]
  },
  {
   "cell_type": "code",
   "execution_count": 6,
   "metadata": {
    "collapsed": true
   },
   "outputs": [],
   "source": [
    "cvr.rename(columns={'creativeID_convrate':'creativeIDconvrate','positionID_convrate':'positionIDconvrate'},inplace=True)"
   ]
  },
  {
   "cell_type": "code",
   "execution_count": 8,
   "metadata": {
    "collapsed": true
   },
   "outputs": [],
   "source": [
    "cvr.rename(columns={'camgaignID_convrate':'camgaignIDconvrate','advertiserID_convrate':'advertiserIDconvrate', 'appID_convrate':'appIDconvrate', 'adID_convrate':'adIDconvrate','hometown_convrate':'hometownconvrate', 'residence_convrate':'residenceconvrate', 'appCategory_convrate':'appCategoryconvrate'},inplace=True)"
   ]
  },
  {
   "cell_type": "code",
   "execution_count": 9,
   "metadata": {},
   "outputs": [
    {
     "data": {
      "text/html": [
       "<div>\n",
       "<style>\n",
       "    .dataframe thead tr:only-child th {\n",
       "        text-align: right;\n",
       "    }\n",
       "\n",
       "    .dataframe thead th {\n",
       "        text-align: left;\n",
       "    }\n",
       "\n",
       "    .dataframe tbody tr th {\n",
       "        vertical-align: top;\n",
       "    }\n",
       "</style>\n",
       "<table border=\"1\" class=\"dataframe\">\n",
       "  <thead>\n",
       "    <tr style=\"text-align: right;\">\n",
       "      <th></th>\n",
       "      <th>creativeIDconvrate</th>\n",
       "      <th>positionIDconvrate</th>\n",
       "      <th>camgaignIDconvrate</th>\n",
       "      <th>advertiserIDconvrate</th>\n",
       "      <th>appIDconvrate</th>\n",
       "      <th>adIDconvrate</th>\n",
       "      <th>hometownconvrate</th>\n",
       "      <th>residenceconvrate</th>\n",
       "      <th>appCategoryconvrate</th>\n",
       "    </tr>\n",
       "  </thead>\n",
       "  <tbody>\n",
       "    <tr>\n",
       "      <th>0</th>\n",
       "      <td>0.02051</td>\n",
       "      <td>0.02438</td>\n",
       "      <td>0.02098</td>\n",
       "      <td>0.01764</td>\n",
       "      <td>0.02879</td>\n",
       "      <td>0.02067</td>\n",
       "      <td>0.02596</td>\n",
       "      <td>0.01561</td>\n",
       "      <td>0.02735</td>\n",
       "    </tr>\n",
       "    <tr>\n",
       "      <th>1</th>\n",
       "      <td>0.00099</td>\n",
       "      <td>0.01008</td>\n",
       "      <td>0.00276</td>\n",
       "      <td>0.00288</td>\n",
       "      <td>0.00267</td>\n",
       "      <td>0.00275</td>\n",
       "      <td>0.02988</td>\n",
       "      <td>0.03342</td>\n",
       "      <td>0.02857</td>\n",
       "    </tr>\n",
       "    <tr>\n",
       "      <th>2</th>\n",
       "      <td>0.01161</td>\n",
       "      <td>0.00328</td>\n",
       "      <td>0.01778</td>\n",
       "      <td>0.01963</td>\n",
       "      <td>0.02332</td>\n",
       "      <td>0.01778</td>\n",
       "      <td>0.03072</td>\n",
       "      <td>0.02787</td>\n",
       "      <td>0.02552</td>\n",
       "    </tr>\n",
       "    <tr>\n",
       "      <th>3</th>\n",
       "      <td>0.01298</td>\n",
       "      <td>0.00265</td>\n",
       "      <td>0.00970</td>\n",
       "      <td>0.01184</td>\n",
       "      <td>0.01184</td>\n",
       "      <td>0.01299</td>\n",
       "      <td>0.02669</td>\n",
       "      <td>0.02602</td>\n",
       "      <td>0.02926</td>\n",
       "    </tr>\n",
       "    <tr>\n",
       "      <th>4</th>\n",
       "      <td>0.01263</td>\n",
       "      <td>0.04231</td>\n",
       "      <td>0.00994</td>\n",
       "      <td>0.01963</td>\n",
       "      <td>0.02332</td>\n",
       "      <td>0.00993</td>\n",
       "      <td>0.02903</td>\n",
       "      <td>0.01561</td>\n",
       "      <td>0.02552</td>\n",
       "    </tr>\n",
       "  </tbody>\n",
       "</table>\n",
       "</div>"
      ],
      "text/plain": [
       "   creativeIDconvrate  positionIDconvrate  camgaignIDconvrate  \\\n",
       "0             0.02051             0.02438             0.02098   \n",
       "1             0.00099             0.01008             0.00276   \n",
       "2             0.01161             0.00328             0.01778   \n",
       "3             0.01298             0.00265             0.00970   \n",
       "4             0.01263             0.04231             0.00994   \n",
       "\n",
       "   advertiserIDconvrate  appIDconvrate  adIDconvrate  hometownconvrate  \\\n",
       "0               0.01764        0.02879       0.02067           0.02596   \n",
       "1               0.00288        0.00267       0.00275           0.02988   \n",
       "2               0.01963        0.02332       0.01778           0.03072   \n",
       "3               0.01184        0.01184       0.01299           0.02669   \n",
       "4               0.01963        0.02332       0.00993           0.02903   \n",
       "\n",
       "   residenceconvrate  appCategoryconvrate  \n",
       "0            0.01561              0.02735  \n",
       "1            0.03342              0.02857  \n",
       "2            0.02787              0.02552  \n",
       "3            0.02602              0.02926  \n",
       "4            0.01561              0.02552  "
      ]
     },
     "execution_count": 9,
     "metadata": {},
     "output_type": "execute_result"
    }
   ],
   "source": [
    "cvr.head()"
   ]
  },
  {
   "cell_type": "code",
   "execution_count": 10,
   "metadata": {},
   "outputs": [
    {
     "data": {
      "text/plain": [
       "(41234657, 9)"
      ]
     },
     "execution_count": 10,
     "metadata": {},
     "output_type": "execute_result"
    }
   ],
   "source": [
    "cvr.shape"
   ]
  },
  {
   "cell_type": "code",
   "execution_count": 11,
   "metadata": {
    "collapsed": true
   },
   "outputs": [],
   "source": [
    "cvr1=cvr.head(41234657-21283135)"
   ]
  },
  {
   "cell_type": "code",
   "execution_count": 12,
   "metadata": {},
   "outputs": [
    {
     "data": {
      "text/html": [
       "<div>\n",
       "<style>\n",
       "    .dataframe thead tr:only-child th {\n",
       "        text-align: right;\n",
       "    }\n",
       "\n",
       "    .dataframe thead th {\n",
       "        text-align: left;\n",
       "    }\n",
       "\n",
       "    .dataframe tbody tr th {\n",
       "        vertical-align: top;\n",
       "    }\n",
       "</style>\n",
       "<table border=\"1\" class=\"dataframe\">\n",
       "  <thead>\n",
       "    <tr style=\"text-align: right;\">\n",
       "      <th></th>\n",
       "      <th>creativeIDconvrate</th>\n",
       "      <th>positionIDconvrate</th>\n",
       "      <th>camgaignIDconvrate</th>\n",
       "      <th>advertiserIDconvrate</th>\n",
       "      <th>appIDconvrate</th>\n",
       "      <th>adIDconvrate</th>\n",
       "      <th>hometownconvrate</th>\n",
       "      <th>residenceconvrate</th>\n",
       "      <th>appCategoryconvrate</th>\n",
       "    </tr>\n",
       "  </thead>\n",
       "  <tbody>\n",
       "    <tr>\n",
       "      <th>19951517</th>\n",
       "      <td>0.01314</td>\n",
       "      <td>0.02995</td>\n",
       "      <td>0.01316</td>\n",
       "      <td>0.01651</td>\n",
       "      <td>0.02252</td>\n",
       "      <td>0.01315</td>\n",
       "      <td>0.02127</td>\n",
       "      <td>0.02752</td>\n",
       "      <td>0.02735</td>\n",
       "    </tr>\n",
       "    <tr>\n",
       "      <th>19951518</th>\n",
       "      <td>0.05432</td>\n",
       "      <td>0.05869</td>\n",
       "      <td>0.05432</td>\n",
       "      <td>0.04458</td>\n",
       "      <td>0.04283</td>\n",
       "      <td>0.05432</td>\n",
       "      <td>0.02754</td>\n",
       "      <td>0.02702</td>\n",
       "      <td>0.02735</td>\n",
       "    </tr>\n",
       "    <tr>\n",
       "      <th>19951519</th>\n",
       "      <td>0.05356</td>\n",
       "      <td>0.03184</td>\n",
       "      <td>0.04904</td>\n",
       "      <td>0.06639</td>\n",
       "      <td>0.05484</td>\n",
       "      <td>0.05319</td>\n",
       "      <td>0.02735</td>\n",
       "      <td>0.01561</td>\n",
       "      <td>0.01636</td>\n",
       "    </tr>\n",
       "    <tr>\n",
       "      <th>19951520</th>\n",
       "      <td>0.03081</td>\n",
       "      <td>0.06064</td>\n",
       "      <td>0.05343</td>\n",
       "      <td>0.04469</td>\n",
       "      <td>0.04497</td>\n",
       "      <td>0.03081</td>\n",
       "      <td>0.03004</td>\n",
       "      <td>0.02610</td>\n",
       "      <td>0.02735</td>\n",
       "    </tr>\n",
       "    <tr>\n",
       "      <th>19951521</th>\n",
       "      <td>0.00336</td>\n",
       "      <td>0.00769</td>\n",
       "      <td>0.00292</td>\n",
       "      <td>0.00092</td>\n",
       "      <td>0.00093</td>\n",
       "      <td>0.00282</td>\n",
       "      <td>0.02648</td>\n",
       "      <td>0.02400</td>\n",
       "      <td>0.03100</td>\n",
       "    </tr>\n",
       "  </tbody>\n",
       "</table>\n",
       "</div>"
      ],
      "text/plain": [
       "          creativeIDconvrate  positionIDconvrate  camgaignIDconvrate  \\\n",
       "19951517             0.01314             0.02995             0.01316   \n",
       "19951518             0.05432             0.05869             0.05432   \n",
       "19951519             0.05356             0.03184             0.04904   \n",
       "19951520             0.03081             0.06064             0.05343   \n",
       "19951521             0.00336             0.00769             0.00292   \n",
       "\n",
       "          advertiserIDconvrate  appIDconvrate  adIDconvrate  hometownconvrate  \\\n",
       "19951517               0.01651        0.02252       0.01315           0.02127   \n",
       "19951518               0.04458        0.04283       0.05432           0.02754   \n",
       "19951519               0.06639        0.05484       0.05319           0.02735   \n",
       "19951520               0.04469        0.04497       0.03081           0.03004   \n",
       "19951521               0.00092        0.00093       0.00282           0.02648   \n",
       "\n",
       "          residenceconvrate  appCategoryconvrate  \n",
       "19951517            0.02752              0.02735  \n",
       "19951518            0.02702              0.02735  \n",
       "19951519            0.01561              0.01636  \n",
       "19951520            0.02610              0.02735  \n",
       "19951521            0.02400              0.03100  "
      ]
     },
     "execution_count": 12,
     "metadata": {},
     "output_type": "execute_result"
    }
   ],
   "source": [
    "cvr1.tail()"
   ]
  },
  {
   "cell_type": "code",
   "execution_count": 13,
   "metadata": {
    "collapsed": true
   },
   "outputs": [],
   "source": [
    "cvr=cvr.tail(21283135)"
   ]
  },
  {
   "cell_type": "code",
   "execution_count": 15,
   "metadata": {},
   "outputs": [],
   "source": [
    "cvr1.to_csv('Features/convrate/data1_convrate.csv',index=False)\n",
    "cvr.to_csv('Features/convrate/data2_convrate.csv',index=False)"
   ]
  },
  {
   "cell_type": "code",
   "execution_count": null,
   "metadata": {
    "collapsed": true
   },
   "outputs": [],
   "source": []
  }
 ],
 "metadata": {
  "kernelspec": {
   "display_name": "Python 3",
   "language": "python",
   "name": "python3"
  },
  "language_info": {
   "codemirror_mode": {
    "name": "ipython",
    "version": 3
   },
   "file_extension": ".py",
   "mimetype": "text/x-python",
   "name": "python",
   "nbconvert_exporter": "python",
   "pygments_lexer": "ipython3",
   "version": "3.6.1"
  }
 },
 "nbformat": 4,
 "nbformat_minor": 2
}
