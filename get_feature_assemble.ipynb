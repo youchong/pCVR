{
 "cells": [
  {
   "cell_type": "code",
   "execution_count": 1,
   "metadata": {
    "collapsed": true
   },
   "outputs": [],
   "source": [
    "import pandas as pd\n",
    "import numpy as np\n",
    "import random as rnd\n",
    "\n",
    "import gc"
   ]
  },
  {
   "cell_type": "code",
   "execution_count": 2,
   "metadata": {
    "collapsed": true
   },
   "outputs": [],
   "source": [
    "data1=pd.read_csv('Features/raw/data1.csv')"
   ]
  },
  {
   "cell_type": "code",
   "execution_count": 3,
   "metadata": {},
   "outputs": [
    {
     "data": {
      "text/html": [
       "<div>\n",
       "<style>\n",
       "    .dataframe thead tr:only-child th {\n",
       "        text-align: right;\n",
       "    }\n",
       "\n",
       "    .dataframe thead th {\n",
       "        text-align: left;\n",
       "    }\n",
       "\n",
       "    .dataframe tbody tr th {\n",
       "        vertical-align: top;\n",
       "    }\n",
       "</style>\n",
       "<table border=\"1\" class=\"dataframe\">\n",
       "  <thead>\n",
       "    <tr style=\"text-align: right;\">\n",
       "      <th></th>\n",
       "      <th>clickTime</th>\n",
       "      <th>connectionType</th>\n",
       "      <th>conversionTime</th>\n",
       "      <th>creativeID</th>\n",
       "      <th>label</th>\n",
       "      <th>positionID</th>\n",
       "      <th>telecomsOperator</th>\n",
       "      <th>userID</th>\n",
       "      <th>adID</th>\n",
       "      <th>camgaignID</th>\n",
       "      <th>...</th>\n",
       "      <th>appCategory</th>\n",
       "      <th>age</th>\n",
       "      <th>gender</th>\n",
       "      <th>education</th>\n",
       "      <th>marriageStatus</th>\n",
       "      <th>haveBaby</th>\n",
       "      <th>hometown</th>\n",
       "      <th>residence</th>\n",
       "      <th>sitesetID</th>\n",
       "      <th>positionType</th>\n",
       "    </tr>\n",
       "  </thead>\n",
       "  <tbody>\n",
       "    <tr>\n",
       "      <th>0</th>\n",
       "      <td>170000</td>\n",
       "      <td>1</td>\n",
       "      <td>NaN</td>\n",
       "      <td>31746</td>\n",
       "      <td>0</td>\n",
       "      <td>4522</td>\n",
       "      <td>1</td>\n",
       "      <td>6762540</td>\n",
       "      <td>11261</td>\n",
       "      <td>2634</td>\n",
       "      <td>...</td>\n",
       "      <td>104</td>\n",
       "      <td>4</td>\n",
       "      <td>1</td>\n",
       "      <td>2</td>\n",
       "      <td>1</td>\n",
       "      <td>0</td>\n",
       "      <td>1409</td>\n",
       "      <td>0</td>\n",
       "      <td>2</td>\n",
       "      <td>0</td>\n",
       "    </tr>\n",
       "    <tr>\n",
       "      <th>1</th>\n",
       "      <td>170000</td>\n",
       "      <td>1</td>\n",
       "      <td>NaN</td>\n",
       "      <td>48795</td>\n",
       "      <td>0</td>\n",
       "      <td>4289</td>\n",
       "      <td>1</td>\n",
       "      <td>532848</td>\n",
       "      <td>18112</td>\n",
       "      <td>4938</td>\n",
       "      <td>...</td>\n",
       "      <td>503</td>\n",
       "      <td>5</td>\n",
       "      <td>2</td>\n",
       "      <td>1</td>\n",
       "      <td>0</td>\n",
       "      <td>0</td>\n",
       "      <td>314</td>\n",
       "      <td>2301</td>\n",
       "      <td>0</td>\n",
       "      <td>2</td>\n",
       "    </tr>\n",
       "    <tr>\n",
       "      <th>2</th>\n",
       "      <td>170000</td>\n",
       "      <td>1</td>\n",
       "      <td>NaN</td>\n",
       "      <td>6615</td>\n",
       "      <td>0</td>\n",
       "      <td>3255</td>\n",
       "      <td>1</td>\n",
       "      <td>19616027</td>\n",
       "      <td>15400</td>\n",
       "      <td>5397</td>\n",
       "      <td>...</td>\n",
       "      <td>201</td>\n",
       "      <td>2</td>\n",
       "      <td>1</td>\n",
       "      <td>0</td>\n",
       "      <td>0</td>\n",
       "      <td>0</td>\n",
       "      <td>308</td>\n",
       "      <td>308</td>\n",
       "      <td>0</td>\n",
       "      <td>3</td>\n",
       "    </tr>\n",
       "    <tr>\n",
       "      <th>3</th>\n",
       "      <td>170000</td>\n",
       "      <td>1</td>\n",
       "      <td>NaN</td>\n",
       "      <td>35911</td>\n",
       "      <td>0</td>\n",
       "      <td>7422</td>\n",
       "      <td>1</td>\n",
       "      <td>8128760</td>\n",
       "      <td>21961</td>\n",
       "      <td>6208</td>\n",
       "      <td>...</td>\n",
       "      <td>0</td>\n",
       "      <td>6</td>\n",
       "      <td>1</td>\n",
       "      <td>1</td>\n",
       "      <td>1</td>\n",
       "      <td>0</td>\n",
       "      <td>503</td>\n",
       "      <td>1105</td>\n",
       "      <td>0</td>\n",
       "      <td>1</td>\n",
       "    </tr>\n",
       "    <tr>\n",
       "      <th>4</th>\n",
       "      <td>170000</td>\n",
       "      <td>1</td>\n",
       "      <td>NaN</td>\n",
       "      <td>9187</td>\n",
       "      <td>0</td>\n",
       "      <td>7219</td>\n",
       "      <td>1</td>\n",
       "      <td>2748335</td>\n",
       "      <td>31059</td>\n",
       "      <td>5750</td>\n",
       "      <td>...</td>\n",
       "      <td>201</td>\n",
       "      <td>8</td>\n",
       "      <td>1</td>\n",
       "      <td>2</td>\n",
       "      <td>2</td>\n",
       "      <td>0</td>\n",
       "      <td>112</td>\n",
       "      <td>0</td>\n",
       "      <td>0</td>\n",
       "      <td>3</td>\n",
       "    </tr>\n",
       "  </tbody>\n",
       "</table>\n",
       "<p>5 rows × 23 columns</p>\n",
       "</div>"
      ],
      "text/plain": [
       "   clickTime  connectionType  conversionTime  creativeID  label  positionID  \\\n",
       "0     170000               1             NaN       31746      0        4522   \n",
       "1     170000               1             NaN       48795      0        4289   \n",
       "2     170000               1             NaN        6615      0        3255   \n",
       "3     170000               1             NaN       35911      0        7422   \n",
       "4     170000               1             NaN        9187      0        7219   \n",
       "\n",
       "   telecomsOperator    userID   adID  camgaignID      ...       appCategory  \\\n",
       "0                 1   6762540  11261        2634      ...               104   \n",
       "1                 1    532848  18112        4938      ...               503   \n",
       "2                 1  19616027  15400        5397      ...               201   \n",
       "3                 1   8128760  21961        6208      ...                 0   \n",
       "4                 1   2748335  31059        5750      ...               201   \n",
       "\n",
       "   age  gender  education  marriageStatus  haveBaby  hometown  residence  \\\n",
       "0    4       1          2               1         0      1409          0   \n",
       "1    5       2          1               0         0       314       2301   \n",
       "2    2       1          0               0         0       308        308   \n",
       "3    6       1          1               1         0       503       1105   \n",
       "4    8       1          2               2         0       112          0   \n",
       "\n",
       "   sitesetID  positionType  \n",
       "0          2             0  \n",
       "1          0             2  \n",
       "2          0             3  \n",
       "3          0             1  \n",
       "4          0             3  \n",
       "\n",
       "[5 rows x 23 columns]"
      ]
     },
     "execution_count": 3,
     "metadata": {},
     "output_type": "execute_result"
    }
   ],
   "source": [
    "data1.head()"
   ]
  },
  {
   "cell_type": "code",
   "execution_count": 4,
   "metadata": {},
   "outputs": [
    {
     "data": {
      "text/plain": [
       "array(['clickTime', 'connectionType', 'conversionTime', 'creativeID',\n",
       "       'label', 'positionID', 'telecomsOperator', 'userID', 'adID',\n",
       "       'camgaignID', 'advertiserID', 'appID', 'appPlatform', 'appCategory',\n",
       "       'age', 'gender', 'education', 'marriageStatus', 'haveBaby',\n",
       "       'hometown', 'residence', 'sitesetID', 'positionType'], dtype=object)"
      ]
     },
     "execution_count": 4,
     "metadata": {},
     "output_type": "execute_result"
    }
   ],
   "source": [
    "data1.columns.values"
   ]
  },
  {
   "cell_type": "code",
   "execution_count": 5,
   "metadata": {},
   "outputs": [
    {
     "data": {
      "text/plain": [
       "(51754, 31467, 479)"
      ]
     },
     "execution_count": 5,
     "metadata": {},
     "output_type": "execute_result"
    }
   ],
   "source": [
    "data1['creativeID'].max(),data1['adID'].max(),data1['appID'].max()"
   ]
  },
  {
   "cell_type": "code",
   "execution_count": 6,
   "metadata": {
    "collapsed": true
   },
   "outputs": [],
   "source": [
    "temp={}"
   ]
  },
  {
   "cell_type": "code",
   "execution_count": 7,
   "metadata": {
    "collapsed": true
   },
   "outputs": [],
   "source": [
    "features1=['connectionType','sitesetID','positionType']\n",
    "features2=['creativeID','adID','appID']"
   ]
  },
  {
   "cell_type": "code",
   "execution_count": 8,
   "metadata": {},
   "outputs": [],
   "source": [
    "for f1 in features1:\n",
    "    for f2 in features2:\n",
    "        data1['temp']=data1[f1]*100000+data1[f2]\n",
    "        name=f1[0:2]+f2[0:2]\n",
    "        temp[name]=data1['temp'].value_counts()"
   ]
  },
  {
   "cell_type": "code",
   "execution_count": 9,
   "metadata": {},
   "outputs": [
    {
     "data": {
      "text/plain": [
       "91"
      ]
     },
     "execution_count": 9,
     "metadata": {},
     "output_type": "execute_result"
    }
   ],
   "source": [
    "del data1\n",
    "gc.collect()"
   ]
  },
  {
   "cell_type": "code",
   "execution_count": 10,
   "metadata": {
    "collapsed": true
   },
   "outputs": [],
   "source": [
    "data2=pd.read_csv('Features/raw/data2.csv')"
   ]
  },
  {
   "cell_type": "code",
   "execution_count": 11,
   "metadata": {
    "collapsed": true
   },
   "outputs": [],
   "source": [
    "for f1 in features1:\n",
    "    for f2 in features2:\n",
    "        data2['temp']=data2[f1]*100000+data2[f2]\n",
    "        name=f1[0:2]+f2[0:2]\n",
    "        data2[name+'Counts']=data2['temp'].map(temp[name])\n",
    "        data2[name+'Counts'].fillna(0,inplace=True)\n",
    "        data2[name+'Counts']=data2[name+'Counts'].astype(int)"
   ]
  },
  {
   "cell_type": "code",
   "execution_count": 12,
   "metadata": {
    "collapsed": true
   },
   "outputs": [],
   "source": [
    "data2.drop(['temp'],axis=1,inplace=True)"
   ]
  },
  {
   "cell_type": "code",
   "execution_count": 13,
   "metadata": {},
   "outputs": [
    {
     "data": {
      "text/html": [
       "<div>\n",
       "<style>\n",
       "    .dataframe thead tr:only-child th {\n",
       "        text-align: right;\n",
       "    }\n",
       "\n",
       "    .dataframe thead th {\n",
       "        text-align: left;\n",
       "    }\n",
       "\n",
       "    .dataframe tbody tr th {\n",
       "        vertical-align: top;\n",
       "    }\n",
       "</style>\n",
       "<table border=\"1\" class=\"dataframe\">\n",
       "  <thead>\n",
       "    <tr style=\"text-align: right;\">\n",
       "      <th></th>\n",
       "      <th>clickTime</th>\n",
       "      <th>connectionType</th>\n",
       "      <th>conversionTime</th>\n",
       "      <th>creativeID</th>\n",
       "      <th>label</th>\n",
       "      <th>positionID</th>\n",
       "      <th>telecomsOperator</th>\n",
       "      <th>userID</th>\n",
       "      <th>adID</th>\n",
       "      <th>camgaignID</th>\n",
       "      <th>...</th>\n",
       "      <th>positionType</th>\n",
       "      <th>cocrCounts</th>\n",
       "      <th>coadCounts</th>\n",
       "      <th>coapCounts</th>\n",
       "      <th>sicrCounts</th>\n",
       "      <th>siadCounts</th>\n",
       "      <th>siapCounts</th>\n",
       "      <th>pocrCounts</th>\n",
       "      <th>poadCounts</th>\n",
       "      <th>poapCounts</th>\n",
       "    </tr>\n",
       "  </thead>\n",
       "  <tbody>\n",
       "    <tr>\n",
       "      <th>0</th>\n",
       "      <td>250000</td>\n",
       "      <td>2</td>\n",
       "      <td>NaN</td>\n",
       "      <td>8930</td>\n",
       "      <td>0</td>\n",
       "      <td>6315</td>\n",
       "      <td>1</td>\n",
       "      <td>18193893</td>\n",
       "      <td>20938</td>\n",
       "      <td>6290</td>\n",
       "      <td>...</td>\n",
       "      <td>1</td>\n",
       "      <td>17750</td>\n",
       "      <td>24824</td>\n",
       "      <td>65161</td>\n",
       "      <td>26311</td>\n",
       "      <td>35231</td>\n",
       "      <td>1779376</td>\n",
       "      <td>26311</td>\n",
       "      <td>34024</td>\n",
       "      <td>577930</td>\n",
       "    </tr>\n",
       "    <tr>\n",
       "      <th>1</th>\n",
       "      <td>250000</td>\n",
       "      <td>1</td>\n",
       "      <td>NaN</td>\n",
       "      <td>43695</td>\n",
       "      <td>0</td>\n",
       "      <td>4522</td>\n",
       "      <td>1</td>\n",
       "      <td>4128332</td>\n",
       "      <td>16739</td>\n",
       "      <td>6026</td>\n",
       "      <td>...</td>\n",
       "      <td>0</td>\n",
       "      <td>179</td>\n",
       "      <td>179</td>\n",
       "      <td>467</td>\n",
       "      <td>436</td>\n",
       "      <td>436</td>\n",
       "      <td>944</td>\n",
       "      <td>436</td>\n",
       "      <td>436</td>\n",
       "      <td>944</td>\n",
       "    </tr>\n",
       "    <tr>\n",
       "      <th>2</th>\n",
       "      <td>250000</td>\n",
       "      <td>0</td>\n",
       "      <td>NaN</td>\n",
       "      <td>28424</td>\n",
       "      <td>0</td>\n",
       "      <td>4522</td>\n",
       "      <td>0</td>\n",
       "      <td>17247261</td>\n",
       "      <td>20367</td>\n",
       "      <td>3774</td>\n",
       "      <td>...</td>\n",
       "      <td>0</td>\n",
       "      <td>933</td>\n",
       "      <td>933</td>\n",
       "      <td>18541</td>\n",
       "      <td>38898</td>\n",
       "      <td>38898</td>\n",
       "      <td>47370</td>\n",
       "      <td>38898</td>\n",
       "      <td>38898</td>\n",
       "      <td>320020</td>\n",
       "    </tr>\n",
       "    <tr>\n",
       "      <th>3</th>\n",
       "      <td>250000</td>\n",
       "      <td>0</td>\n",
       "      <td>NaN</td>\n",
       "      <td>47347</td>\n",
       "      <td>0</td>\n",
       "      <td>4522</td>\n",
       "      <td>0</td>\n",
       "      <td>14569685</td>\n",
       "      <td>12268</td>\n",
       "      <td>5725</td>\n",
       "      <td>...</td>\n",
       "      <td>0</td>\n",
       "      <td>895</td>\n",
       "      <td>895</td>\n",
       "      <td>4405</td>\n",
       "      <td>37946</td>\n",
       "      <td>37946</td>\n",
       "      <td>147643</td>\n",
       "      <td>37946</td>\n",
       "      <td>37946</td>\n",
       "      <td>179392</td>\n",
       "    </tr>\n",
       "    <tr>\n",
       "      <th>4</th>\n",
       "      <td>250000</td>\n",
       "      <td>2</td>\n",
       "      <td>NaN</td>\n",
       "      <td>16759</td>\n",
       "      <td>0</td>\n",
       "      <td>7511</td>\n",
       "      <td>1</td>\n",
       "      <td>8351850</td>\n",
       "      <td>15256</td>\n",
       "      <td>6679</td>\n",
       "      <td>...</td>\n",
       "      <td>1</td>\n",
       "      <td>1514</td>\n",
       "      <td>1793</td>\n",
       "      <td>107908</td>\n",
       "      <td>2496</td>\n",
       "      <td>2963</td>\n",
       "      <td>1216663</td>\n",
       "      <td>2496</td>\n",
       "      <td>2963</td>\n",
       "      <td>1167529</td>\n",
       "    </tr>\n",
       "  </tbody>\n",
       "</table>\n",
       "<p>5 rows × 32 columns</p>\n",
       "</div>"
      ],
      "text/plain": [
       "   clickTime  connectionType  conversionTime  creativeID  label  positionID  \\\n",
       "0     250000               2             NaN        8930      0        6315   \n",
       "1     250000               1             NaN       43695      0        4522   \n",
       "2     250000               0             NaN       28424      0        4522   \n",
       "3     250000               0             NaN       47347      0        4522   \n",
       "4     250000               2             NaN       16759      0        7511   \n",
       "\n",
       "   telecomsOperator    userID   adID  camgaignID     ...      positionType  \\\n",
       "0                 1  18193893  20938        6290     ...                 1   \n",
       "1                 1   4128332  16739        6026     ...                 0   \n",
       "2                 0  17247261  20367        3774     ...                 0   \n",
       "3                 0  14569685  12268        5725     ...                 0   \n",
       "4                 1   8351850  15256        6679     ...                 1   \n",
       "\n",
       "   cocrCounts  coadCounts  coapCounts  sicrCounts  siadCounts  siapCounts  \\\n",
       "0       17750       24824       65161       26311       35231     1779376   \n",
       "1         179         179         467         436         436         944   \n",
       "2         933         933       18541       38898       38898       47370   \n",
       "3         895         895        4405       37946       37946      147643   \n",
       "4        1514        1793      107908        2496        2963     1216663   \n",
       "\n",
       "   pocrCounts  poadCounts  poapCounts  \n",
       "0       26311       34024      577930  \n",
       "1         436         436         944  \n",
       "2       38898       38898      320020  \n",
       "3       37946       37946      179392  \n",
       "4        2496        2963     1167529  \n",
       "\n",
       "[5 rows x 32 columns]"
      ]
     },
     "execution_count": 13,
     "metadata": {},
     "output_type": "execute_result"
    }
   ],
   "source": [
    "data2.head()"
   ]
  },
  {
   "cell_type": "code",
   "execution_count": 14,
   "metadata": {},
   "outputs": [
    {
     "data": {
      "text/plain": [
       "array(['clickTime', 'connectionType', 'conversionTime', 'creativeID',\n",
       "       'label', 'positionID', 'telecomsOperator', 'userID', 'adID',\n",
       "       'camgaignID', 'advertiserID', 'appID', 'appPlatform', 'appCategory',\n",
       "       'age', 'gender', 'education', 'marriageStatus', 'haveBaby',\n",
       "       'hometown', 'residence', 'sitesetID', 'positionType', 'cocrCounts',\n",
       "       'coadCounts', 'coapCounts', 'sicrCounts', 'siadCounts',\n",
       "       'siapCounts', 'pocrCounts', 'poadCounts', 'poapCounts'], dtype=object)"
      ]
     },
     "execution_count": 14,
     "metadata": {},
     "output_type": "execute_result"
    }
   ],
   "source": [
    "data2.columns.values"
   ]
  },
  {
   "cell_type": "code",
   "execution_count": 15,
   "metadata": {
    "collapsed": true
   },
   "outputs": [],
   "source": [
    "data2=data2[['clickTime','cocrCounts','coadCounts', 'coapCounts', 'sicrCounts', 'siadCounts','siapCounts', 'pocrCounts', 'poadCounts', 'poapCounts']]"
   ]
  },
  {
   "cell_type": "code",
   "execution_count": 16,
   "metadata": {},
   "outputs": [
    {
     "data": {
      "text/html": [
       "<div>\n",
       "<style>\n",
       "    .dataframe thead tr:only-child th {\n",
       "        text-align: right;\n",
       "    }\n",
       "\n",
       "    .dataframe thead th {\n",
       "        text-align: left;\n",
       "    }\n",
       "\n",
       "    .dataframe tbody tr th {\n",
       "        vertical-align: top;\n",
       "    }\n",
       "</style>\n",
       "<table border=\"1\" class=\"dataframe\">\n",
       "  <thead>\n",
       "    <tr style=\"text-align: right;\">\n",
       "      <th></th>\n",
       "      <th>clickTime</th>\n",
       "      <th>cocrCounts</th>\n",
       "      <th>coadCounts</th>\n",
       "      <th>coapCounts</th>\n",
       "      <th>sicrCounts</th>\n",
       "      <th>siadCounts</th>\n",
       "      <th>siapCounts</th>\n",
       "      <th>pocrCounts</th>\n",
       "      <th>poadCounts</th>\n",
       "      <th>poapCounts</th>\n",
       "    </tr>\n",
       "  </thead>\n",
       "  <tbody>\n",
       "    <tr>\n",
       "      <th>0</th>\n",
       "      <td>250000</td>\n",
       "      <td>17750</td>\n",
       "      <td>24824</td>\n",
       "      <td>65161</td>\n",
       "      <td>26311</td>\n",
       "      <td>35231</td>\n",
       "      <td>1779376</td>\n",
       "      <td>26311</td>\n",
       "      <td>34024</td>\n",
       "      <td>577930</td>\n",
       "    </tr>\n",
       "    <tr>\n",
       "      <th>1</th>\n",
       "      <td>250000</td>\n",
       "      <td>179</td>\n",
       "      <td>179</td>\n",
       "      <td>467</td>\n",
       "      <td>436</td>\n",
       "      <td>436</td>\n",
       "      <td>944</td>\n",
       "      <td>436</td>\n",
       "      <td>436</td>\n",
       "      <td>944</td>\n",
       "    </tr>\n",
       "    <tr>\n",
       "      <th>2</th>\n",
       "      <td>250000</td>\n",
       "      <td>933</td>\n",
       "      <td>933</td>\n",
       "      <td>18541</td>\n",
       "      <td>38898</td>\n",
       "      <td>38898</td>\n",
       "      <td>47370</td>\n",
       "      <td>38898</td>\n",
       "      <td>38898</td>\n",
       "      <td>320020</td>\n",
       "    </tr>\n",
       "    <tr>\n",
       "      <th>3</th>\n",
       "      <td>250000</td>\n",
       "      <td>895</td>\n",
       "      <td>895</td>\n",
       "      <td>4405</td>\n",
       "      <td>37946</td>\n",
       "      <td>37946</td>\n",
       "      <td>147643</td>\n",
       "      <td>37946</td>\n",
       "      <td>37946</td>\n",
       "      <td>179392</td>\n",
       "    </tr>\n",
       "    <tr>\n",
       "      <th>4</th>\n",
       "      <td>250000</td>\n",
       "      <td>1514</td>\n",
       "      <td>1793</td>\n",
       "      <td>107908</td>\n",
       "      <td>2496</td>\n",
       "      <td>2963</td>\n",
       "      <td>1216663</td>\n",
       "      <td>2496</td>\n",
       "      <td>2963</td>\n",
       "      <td>1167529</td>\n",
       "    </tr>\n",
       "  </tbody>\n",
       "</table>\n",
       "</div>"
      ],
      "text/plain": [
       "   clickTime  cocrCounts  coadCounts  coapCounts  sicrCounts  siadCounts  \\\n",
       "0     250000       17750       24824       65161       26311       35231   \n",
       "1     250000         179         179         467         436         436   \n",
       "2     250000         933         933       18541       38898       38898   \n",
       "3     250000         895         895        4405       37946       37946   \n",
       "4     250000        1514        1793      107908        2496        2963   \n",
       "\n",
       "   siapCounts  pocrCounts  poadCounts  poapCounts  \n",
       "0     1779376       26311       34024      577930  \n",
       "1         944         436         436         944  \n",
       "2       47370       38898       38898      320020  \n",
       "3      147643       37946       37946      179392  \n",
       "4     1216663        2496        2963     1167529  "
      ]
     },
     "execution_count": 16,
     "metadata": {},
     "output_type": "execute_result"
    }
   ],
   "source": [
    "data2.head()"
   ]
  },
  {
   "cell_type": "code",
   "execution_count": 17,
   "metadata": {
    "collapsed": true
   },
   "outputs": [],
   "source": [
    "data2.tail(3321748).to_csv('Features/assemble/data2_assemble28_test.csv',index=False)"
   ]
  },
  {
   "cell_type": "code",
   "execution_count": 18,
   "metadata": {},
   "outputs": [
    {
     "data": {
      "text/plain": [
       "(21283135, 10)"
      ]
     },
     "execution_count": 18,
     "metadata": {},
     "output_type": "execute_result"
    }
   ],
   "source": [
    "data2.shape"
   ]
  },
  {
   "cell_type": "code",
   "execution_count": 19,
   "metadata": {
    "collapsed": true
   },
   "outputs": [],
   "source": [
    "data2=data2.head(21283135-3321748)"
   ]
  },
  {
   "cell_type": "code",
   "execution_count": 20,
   "metadata": {},
   "outputs": [
    {
     "data": {
      "text/html": [
       "<div>\n",
       "<style>\n",
       "    .dataframe thead tr:only-child th {\n",
       "        text-align: right;\n",
       "    }\n",
       "\n",
       "    .dataframe thead th {\n",
       "        text-align: left;\n",
       "    }\n",
       "\n",
       "    .dataframe tbody tr th {\n",
       "        vertical-align: top;\n",
       "    }\n",
       "</style>\n",
       "<table border=\"1\" class=\"dataframe\">\n",
       "  <thead>\n",
       "    <tr style=\"text-align: right;\">\n",
       "      <th></th>\n",
       "      <th>clickTime</th>\n",
       "      <th>cocrCounts</th>\n",
       "      <th>coadCounts</th>\n",
       "      <th>coapCounts</th>\n",
       "      <th>sicrCounts</th>\n",
       "      <th>siadCounts</th>\n",
       "      <th>siapCounts</th>\n",
       "      <th>pocrCounts</th>\n",
       "      <th>poadCounts</th>\n",
       "      <th>poapCounts</th>\n",
       "    </tr>\n",
       "  </thead>\n",
       "  <tbody>\n",
       "    <tr>\n",
       "      <th>17961382</th>\n",
       "      <td>302359</td>\n",
       "      <td>1198</td>\n",
       "      <td>8512</td>\n",
       "      <td>22074</td>\n",
       "      <td>2960</td>\n",
       "      <td>15186</td>\n",
       "      <td>38248</td>\n",
       "      <td>2960</td>\n",
       "      <td>14222</td>\n",
       "      <td>26902</td>\n",
       "    </tr>\n",
       "    <tr>\n",
       "      <th>17961383</th>\n",
       "      <td>302359</td>\n",
       "      <td>1442</td>\n",
       "      <td>1442</td>\n",
       "      <td>18231</td>\n",
       "      <td>1442</td>\n",
       "      <td>1442</td>\n",
       "      <td>18854</td>\n",
       "      <td>1442</td>\n",
       "      <td>1442</td>\n",
       "      <td>13791</td>\n",
       "    </tr>\n",
       "    <tr>\n",
       "      <th>17961384</th>\n",
       "      <td>302359</td>\n",
       "      <td>280</td>\n",
       "      <td>515</td>\n",
       "      <td>93028</td>\n",
       "      <td>52</td>\n",
       "      <td>147</td>\n",
       "      <td>15833</td>\n",
       "      <td>34</td>\n",
       "      <td>96</td>\n",
       "      <td>8759</td>\n",
       "    </tr>\n",
       "    <tr>\n",
       "      <th>17961385</th>\n",
       "      <td>302359</td>\n",
       "      <td>3667</td>\n",
       "      <td>31451</td>\n",
       "      <td>773900</td>\n",
       "      <td>7867</td>\n",
       "      <td>42146</td>\n",
       "      <td>1061757</td>\n",
       "      <td>6979</td>\n",
       "      <td>41258</td>\n",
       "      <td>1032482</td>\n",
       "    </tr>\n",
       "    <tr>\n",
       "      <th>17961386</th>\n",
       "      <td>302359</td>\n",
       "      <td>1447</td>\n",
       "      <td>1711</td>\n",
       "      <td>7056</td>\n",
       "      <td>20210</td>\n",
       "      <td>23909</td>\n",
       "      <td>89486</td>\n",
       "      <td>20205</td>\n",
       "      <td>23234</td>\n",
       "      <td>74178</td>\n",
       "    </tr>\n",
       "  </tbody>\n",
       "</table>\n",
       "</div>"
      ],
      "text/plain": [
       "          clickTime  cocrCounts  coadCounts  coapCounts  sicrCounts  \\\n",
       "17961382     302359        1198        8512       22074        2960   \n",
       "17961383     302359        1442        1442       18231        1442   \n",
       "17961384     302359         280         515       93028          52   \n",
       "17961385     302359        3667       31451      773900        7867   \n",
       "17961386     302359        1447        1711        7056       20210   \n",
       "\n",
       "          siadCounts  siapCounts  pocrCounts  poadCounts  poapCounts  \n",
       "17961382       15186       38248        2960       14222       26902  \n",
       "17961383        1442       18854        1442        1442       13791  \n",
       "17961384         147       15833          34          96        8759  \n",
       "17961385       42146     1061757        6979       41258     1032482  \n",
       "17961386       23909       89486       20205       23234       74178  "
      ]
     },
     "execution_count": 20,
     "metadata": {},
     "output_type": "execute_result"
    }
   ],
   "source": [
    "data2.tail()"
   ]
  },
  {
   "cell_type": "code",
   "execution_count": 21,
   "metadata": {
    "collapsed": true
   },
   "outputs": [],
   "source": [
    "temp=(data2['clickTime']>=280000)&(data2['clickTime']<290000)"
   ]
  },
  {
   "cell_type": "code",
   "execution_count": 22,
   "metadata": {},
   "outputs": [],
   "source": [
    "data2[temp].to_csv('Features/assemble/data2_assemble28_valid.csv',index=False)"
   ]
  },
  {
   "cell_type": "code",
   "execution_count": 23,
   "metadata": {
    "collapsed": true
   },
   "outputs": [],
   "source": [
    "data2[~temp].to_csv('Features/assemble/data2_assemble28_train.csv',index=False)"
   ]
  },
  {
   "cell_type": "code",
   "execution_count": null,
   "metadata": {
    "collapsed": true
   },
   "outputs": [],
   "source": []
  }
 ],
 "metadata": {
  "kernelspec": {
   "display_name": "Python 3",
   "language": "python",
   "name": "python3"
  },
  "language_info": {
   "codemirror_mode": {
    "name": "ipython",
    "version": 3
   },
   "file_extension": ".py",
   "mimetype": "text/x-python",
   "name": "python",
   "nbconvert_exporter": "python",
   "pygments_lexer": "ipython3",
   "version": "3.6.1"
  }
 },
 "nbformat": 4,
 "nbformat_minor": 2
}
