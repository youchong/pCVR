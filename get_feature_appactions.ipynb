{
 "cells": [
  {
   "cell_type": "code",
   "execution_count": 2,
   "metadata": {
    "collapsed": true
   },
   "outputs": [],
   "source": [
    "import pandas as pd\n",
    "import numpy as np\n",
    "import random as rnd\n",
    "\n",
    "import gc"
   ]
  },
  {
   "cell_type": "code",
   "execution_count": 2,
   "metadata": {
    "collapsed": true
   },
   "outputs": [],
   "source": [
    "app_action=pd.read_csv('Datasets/user_app_actions.csv')\n",
    "data2=pd.read_csv('Features/raw/data2.csv')"
   ]
  },
  {
   "cell_type": "code",
   "execution_count": 3,
   "metadata": {},
   "outputs": [
    {
     "data": {
      "text/html": [
       "<div>\n",
       "<style>\n",
       "    .dataframe thead tr:only-child th {\n",
       "        text-align: right;\n",
       "    }\n",
       "\n",
       "    .dataframe thead th {\n",
       "        text-align: left;\n",
       "    }\n",
       "\n",
       "    .dataframe tbody tr th {\n",
       "        vertical-align: top;\n",
       "    }\n",
       "</style>\n",
       "<table border=\"1\" class=\"dataframe\">\n",
       "  <thead>\n",
       "    <tr style=\"text-align: right;\">\n",
       "      <th></th>\n",
       "      <th>userID</th>\n",
       "      <th>installTime</th>\n",
       "      <th>appID</th>\n",
       "    </tr>\n",
       "  </thead>\n",
       "  <tbody>\n",
       "    <tr>\n",
       "      <th>0</th>\n",
       "      <td>1</td>\n",
       "      <td>18203243</td>\n",
       "      <td>933</td>\n",
       "    </tr>\n",
       "    <tr>\n",
       "      <th>1</th>\n",
       "      <td>5</td>\n",
       "      <td>14135449</td>\n",
       "      <td>589</td>\n",
       "    </tr>\n",
       "    <tr>\n",
       "      <th>2</th>\n",
       "      <td>5</td>\n",
       "      <td>25172753</td>\n",
       "      <td>565</td>\n",
       "    </tr>\n",
       "    <tr>\n",
       "      <th>3</th>\n",
       "      <td>5</td>\n",
       "      <td>26093226</td>\n",
       "      <td>596</td>\n",
       "    </tr>\n",
       "    <tr>\n",
       "      <th>4</th>\n",
       "      <td>5</td>\n",
       "      <td>26131830</td>\n",
       "      <td>536</td>\n",
       "    </tr>\n",
       "  </tbody>\n",
       "</table>\n",
       "</div>"
      ],
      "text/plain": [
       "   userID  installTime  appID\n",
       "0       1     18203243    933\n",
       "1       5     14135449    589\n",
       "2       5     25172753    565\n",
       "3       5     26093226    596\n",
       "4       5     26131830    536"
      ]
     },
     "execution_count": 3,
     "metadata": {},
     "output_type": "execute_result"
    }
   ],
   "source": [
    "app_action.head()"
   ]
  },
  {
   "cell_type": "code",
   "execution_count": 4,
   "metadata": {},
   "outputs": [
    {
     "data": {
      "text/html": [
       "<div>\n",
       "<style>\n",
       "    .dataframe thead tr:only-child th {\n",
       "        text-align: right;\n",
       "    }\n",
       "\n",
       "    .dataframe thead th {\n",
       "        text-align: left;\n",
       "    }\n",
       "\n",
       "    .dataframe tbody tr th {\n",
       "        vertical-align: top;\n",
       "    }\n",
       "</style>\n",
       "<table border=\"1\" class=\"dataframe\">\n",
       "  <thead>\n",
       "    <tr style=\"text-align: right;\">\n",
       "      <th></th>\n",
       "      <th>clickTime</th>\n",
       "      <th>connectionType</th>\n",
       "      <th>conversionTime</th>\n",
       "      <th>creativeID</th>\n",
       "      <th>label</th>\n",
       "      <th>positionID</th>\n",
       "      <th>telecomsOperator</th>\n",
       "      <th>userID</th>\n",
       "      <th>adID</th>\n",
       "      <th>camgaignID</th>\n",
       "      <th>...</th>\n",
       "      <th>appCategory</th>\n",
       "      <th>age</th>\n",
       "      <th>gender</th>\n",
       "      <th>education</th>\n",
       "      <th>marriageStatus</th>\n",
       "      <th>haveBaby</th>\n",
       "      <th>hometown</th>\n",
       "      <th>residence</th>\n",
       "      <th>sitesetID</th>\n",
       "      <th>positionType</th>\n",
       "    </tr>\n",
       "  </thead>\n",
       "  <tbody>\n",
       "    <tr>\n",
       "      <th>0</th>\n",
       "      <td>250000</td>\n",
       "      <td>2</td>\n",
       "      <td>NaN</td>\n",
       "      <td>8930</td>\n",
       "      <td>0</td>\n",
       "      <td>6315</td>\n",
       "      <td>1</td>\n",
       "      <td>18193893</td>\n",
       "      <td>20938</td>\n",
       "      <td>6290</td>\n",
       "      <td>...</td>\n",
       "      <td>407</td>\n",
       "      <td>3</td>\n",
       "      <td>1</td>\n",
       "      <td>1</td>\n",
       "      <td>0</td>\n",
       "      <td>0</td>\n",
       "      <td>1503</td>\n",
       "      <td>1503</td>\n",
       "      <td>0</td>\n",
       "      <td>1</td>\n",
       "    </tr>\n",
       "    <tr>\n",
       "      <th>1</th>\n",
       "      <td>250000</td>\n",
       "      <td>1</td>\n",
       "      <td>NaN</td>\n",
       "      <td>43695</td>\n",
       "      <td>0</td>\n",
       "      <td>4522</td>\n",
       "      <td>1</td>\n",
       "      <td>4128332</td>\n",
       "      <td>16739</td>\n",
       "      <td>6026</td>\n",
       "      <td>...</td>\n",
       "      <td>104</td>\n",
       "      <td>7</td>\n",
       "      <td>1</td>\n",
       "      <td>1</td>\n",
       "      <td>3</td>\n",
       "      <td>0</td>\n",
       "      <td>1506</td>\n",
       "      <td>1501</td>\n",
       "      <td>2</td>\n",
       "      <td>0</td>\n",
       "    </tr>\n",
       "    <tr>\n",
       "      <th>2</th>\n",
       "      <td>250000</td>\n",
       "      <td>0</td>\n",
       "      <td>NaN</td>\n",
       "      <td>28424</td>\n",
       "      <td>0</td>\n",
       "      <td>4522</td>\n",
       "      <td>0</td>\n",
       "      <td>17247261</td>\n",
       "      <td>20367</td>\n",
       "      <td>3774</td>\n",
       "      <td>...</td>\n",
       "      <td>203</td>\n",
       "      <td>5</td>\n",
       "      <td>1</td>\n",
       "      <td>0</td>\n",
       "      <td>0</td>\n",
       "      <td>0</td>\n",
       "      <td>1209</td>\n",
       "      <td>1209</td>\n",
       "      <td>2</td>\n",
       "      <td>0</td>\n",
       "    </tr>\n",
       "    <tr>\n",
       "      <th>3</th>\n",
       "      <td>250000</td>\n",
       "      <td>0</td>\n",
       "      <td>NaN</td>\n",
       "      <td>47347</td>\n",
       "      <td>0</td>\n",
       "      <td>4522</td>\n",
       "      <td>0</td>\n",
       "      <td>14569685</td>\n",
       "      <td>12268</td>\n",
       "      <td>5725</td>\n",
       "      <td>...</td>\n",
       "      <td>203</td>\n",
       "      <td>9</td>\n",
       "      <td>2</td>\n",
       "      <td>0</td>\n",
       "      <td>0</td>\n",
       "      <td>0</td>\n",
       "      <td>0</td>\n",
       "      <td>213</td>\n",
       "      <td>2</td>\n",
       "      <td>0</td>\n",
       "    </tr>\n",
       "    <tr>\n",
       "      <th>4</th>\n",
       "      <td>250000</td>\n",
       "      <td>2</td>\n",
       "      <td>NaN</td>\n",
       "      <td>16759</td>\n",
       "      <td>0</td>\n",
       "      <td>7511</td>\n",
       "      <td>1</td>\n",
       "      <td>8351850</td>\n",
       "      <td>15256</td>\n",
       "      <td>6679</td>\n",
       "      <td>...</td>\n",
       "      <td>201</td>\n",
       "      <td>2</td>\n",
       "      <td>2</td>\n",
       "      <td>5</td>\n",
       "      <td>1</td>\n",
       "      <td>0</td>\n",
       "      <td>1001</td>\n",
       "      <td>1001</td>\n",
       "      <td>0</td>\n",
       "      <td>1</td>\n",
       "    </tr>\n",
       "  </tbody>\n",
       "</table>\n",
       "<p>5 rows × 23 columns</p>\n",
       "</div>"
      ],
      "text/plain": [
       "   clickTime  connectionType  conversionTime  creativeID  label  positionID  \\\n",
       "0     250000               2             NaN        8930      0        6315   \n",
       "1     250000               1             NaN       43695      0        4522   \n",
       "2     250000               0             NaN       28424      0        4522   \n",
       "3     250000               0             NaN       47347      0        4522   \n",
       "4     250000               2             NaN       16759      0        7511   \n",
       "\n",
       "   telecomsOperator    userID   adID  camgaignID      ...       appCategory  \\\n",
       "0                 1  18193893  20938        6290      ...               407   \n",
       "1                 1   4128332  16739        6026      ...               104   \n",
       "2                 0  17247261  20367        3774      ...               203   \n",
       "3                 0  14569685  12268        5725      ...               203   \n",
       "4                 1   8351850  15256        6679      ...               201   \n",
       "\n",
       "   age  gender  education  marriageStatus  haveBaby  hometown  residence  \\\n",
       "0    3       1          1               0         0      1503       1503   \n",
       "1    7       1          1               3         0      1506       1501   \n",
       "2    5       1          0               0         0      1209       1209   \n",
       "3    9       2          0               0         0         0        213   \n",
       "4    2       2          5               1         0      1001       1001   \n",
       "\n",
       "   sitesetID  positionType  \n",
       "0          0             1  \n",
       "1          2             0  \n",
       "2          2             0  \n",
       "3          2             0  \n",
       "4          0             1  \n",
       "\n",
       "[5 rows x 23 columns]"
      ]
     },
     "execution_count": 4,
     "metadata": {},
     "output_type": "execute_result"
    }
   ],
   "source": [
    "data2.head()"
   ]
  },
  {
   "cell_type": "code",
   "execution_count": 5,
   "metadata": {
    "collapsed": true
   },
   "outputs": [],
   "source": [
    "data2['appactionCounts']=data2['userID'].map(app_action['userID'].value_counts())"
   ]
  },
  {
   "cell_type": "code",
   "execution_count": 6,
   "metadata": {
    "collapsed": true
   },
   "outputs": [],
   "source": [
    "app_action=app_action[(app_action['installTime']>=17000000)&(app_action['installTime']>=25000000)]"
   ]
  },
  {
   "cell_type": "code",
   "execution_count": 7,
   "metadata": {
    "collapsed": true
   },
   "outputs": [],
   "source": [
    "data2['appactionCountsbf']=data2['userID'].map(app_action['userID'].value_counts())"
   ]
  },
  {
   "cell_type": "code",
   "execution_count": 10,
   "metadata": {},
   "outputs": [],
   "source": [
    "data2['appactionCounts'].fillna(0,inplace=True)\n",
    "data2['appactionCounts']=data2['appactionCounts'].astype(int)\n",
    "data2['appactionCountsbf'].fillna(0,inplace=True)\n",
    "data2['appactionCountsbf']=data2['appactionCounts'].astype(int)"
   ]
  },
  {
   "cell_type": "code",
   "execution_count": 11,
   "metadata": {},
   "outputs": [
    {
     "data": {
      "text/html": [
       "<div>\n",
       "<style>\n",
       "    .dataframe thead tr:only-child th {\n",
       "        text-align: right;\n",
       "    }\n",
       "\n",
       "    .dataframe thead th {\n",
       "        text-align: left;\n",
       "    }\n",
       "\n",
       "    .dataframe tbody tr th {\n",
       "        vertical-align: top;\n",
       "    }\n",
       "</style>\n",
       "<table border=\"1\" class=\"dataframe\">\n",
       "  <thead>\n",
       "    <tr style=\"text-align: right;\">\n",
       "      <th></th>\n",
       "      <th>clickTime</th>\n",
       "      <th>connectionType</th>\n",
       "      <th>conversionTime</th>\n",
       "      <th>creativeID</th>\n",
       "      <th>label</th>\n",
       "      <th>positionID</th>\n",
       "      <th>telecomsOperator</th>\n",
       "      <th>userID</th>\n",
       "      <th>adID</th>\n",
       "      <th>camgaignID</th>\n",
       "      <th>...</th>\n",
       "      <th>gender</th>\n",
       "      <th>education</th>\n",
       "      <th>marriageStatus</th>\n",
       "      <th>haveBaby</th>\n",
       "      <th>hometown</th>\n",
       "      <th>residence</th>\n",
       "      <th>sitesetID</th>\n",
       "      <th>positionType</th>\n",
       "      <th>appactionCounts</th>\n",
       "      <th>appactionCountsbf</th>\n",
       "    </tr>\n",
       "  </thead>\n",
       "  <tbody>\n",
       "    <tr>\n",
       "      <th>0</th>\n",
       "      <td>250000</td>\n",
       "      <td>2</td>\n",
       "      <td>NaN</td>\n",
       "      <td>8930</td>\n",
       "      <td>0</td>\n",
       "      <td>6315</td>\n",
       "      <td>1</td>\n",
       "      <td>18193893</td>\n",
       "      <td>20938</td>\n",
       "      <td>6290</td>\n",
       "      <td>...</td>\n",
       "      <td>1</td>\n",
       "      <td>1</td>\n",
       "      <td>0</td>\n",
       "      <td>0</td>\n",
       "      <td>1503</td>\n",
       "      <td>1503</td>\n",
       "      <td>0</td>\n",
       "      <td>1</td>\n",
       "      <td>0</td>\n",
       "      <td>0</td>\n",
       "    </tr>\n",
       "    <tr>\n",
       "      <th>1</th>\n",
       "      <td>250000</td>\n",
       "      <td>1</td>\n",
       "      <td>NaN</td>\n",
       "      <td>43695</td>\n",
       "      <td>0</td>\n",
       "      <td>4522</td>\n",
       "      <td>1</td>\n",
       "      <td>4128332</td>\n",
       "      <td>16739</td>\n",
       "      <td>6026</td>\n",
       "      <td>...</td>\n",
       "      <td>1</td>\n",
       "      <td>1</td>\n",
       "      <td>3</td>\n",
       "      <td>0</td>\n",
       "      <td>1506</td>\n",
       "      <td>1501</td>\n",
       "      <td>2</td>\n",
       "      <td>0</td>\n",
       "      <td>0</td>\n",
       "      <td>0</td>\n",
       "    </tr>\n",
       "    <tr>\n",
       "      <th>2</th>\n",
       "      <td>250000</td>\n",
       "      <td>0</td>\n",
       "      <td>NaN</td>\n",
       "      <td>28424</td>\n",
       "      <td>0</td>\n",
       "      <td>4522</td>\n",
       "      <td>0</td>\n",
       "      <td>17247261</td>\n",
       "      <td>20367</td>\n",
       "      <td>3774</td>\n",
       "      <td>...</td>\n",
       "      <td>1</td>\n",
       "      <td>0</td>\n",
       "      <td>0</td>\n",
       "      <td>0</td>\n",
       "      <td>1209</td>\n",
       "      <td>1209</td>\n",
       "      <td>2</td>\n",
       "      <td>0</td>\n",
       "      <td>0</td>\n",
       "      <td>0</td>\n",
       "    </tr>\n",
       "    <tr>\n",
       "      <th>3</th>\n",
       "      <td>250000</td>\n",
       "      <td>0</td>\n",
       "      <td>NaN</td>\n",
       "      <td>47347</td>\n",
       "      <td>0</td>\n",
       "      <td>4522</td>\n",
       "      <td>0</td>\n",
       "      <td>14569685</td>\n",
       "      <td>12268</td>\n",
       "      <td>5725</td>\n",
       "      <td>...</td>\n",
       "      <td>2</td>\n",
       "      <td>0</td>\n",
       "      <td>0</td>\n",
       "      <td>0</td>\n",
       "      <td>0</td>\n",
       "      <td>213</td>\n",
       "      <td>2</td>\n",
       "      <td>0</td>\n",
       "      <td>0</td>\n",
       "      <td>0</td>\n",
       "    </tr>\n",
       "    <tr>\n",
       "      <th>4</th>\n",
       "      <td>250000</td>\n",
       "      <td>2</td>\n",
       "      <td>NaN</td>\n",
       "      <td>16759</td>\n",
       "      <td>0</td>\n",
       "      <td>7511</td>\n",
       "      <td>1</td>\n",
       "      <td>8351850</td>\n",
       "      <td>15256</td>\n",
       "      <td>6679</td>\n",
       "      <td>...</td>\n",
       "      <td>2</td>\n",
       "      <td>5</td>\n",
       "      <td>1</td>\n",
       "      <td>0</td>\n",
       "      <td>1001</td>\n",
       "      <td>1001</td>\n",
       "      <td>0</td>\n",
       "      <td>1</td>\n",
       "      <td>0</td>\n",
       "      <td>0</td>\n",
       "    </tr>\n",
       "  </tbody>\n",
       "</table>\n",
       "<p>5 rows × 25 columns</p>\n",
       "</div>"
      ],
      "text/plain": [
       "   clickTime  connectionType  conversionTime  creativeID  label  positionID  \\\n",
       "0     250000               2             NaN        8930      0        6315   \n",
       "1     250000               1             NaN       43695      0        4522   \n",
       "2     250000               0             NaN       28424      0        4522   \n",
       "3     250000               0             NaN       47347      0        4522   \n",
       "4     250000               2             NaN       16759      0        7511   \n",
       "\n",
       "   telecomsOperator    userID   adID  camgaignID        ...          gender  \\\n",
       "0                 1  18193893  20938        6290        ...               1   \n",
       "1                 1   4128332  16739        6026        ...               1   \n",
       "2                 0  17247261  20367        3774        ...               1   \n",
       "3                 0  14569685  12268        5725        ...               2   \n",
       "4                 1   8351850  15256        6679        ...               2   \n",
       "\n",
       "   education  marriageStatus  haveBaby  hometown  residence  sitesetID  \\\n",
       "0          1               0         0      1503       1503          0   \n",
       "1          1               3         0      1506       1501          2   \n",
       "2          0               0         0      1209       1209          2   \n",
       "3          0               0         0         0        213          2   \n",
       "4          5               1         0      1001       1001          0   \n",
       "\n",
       "   positionType  appactionCounts  appactionCountsbf  \n",
       "0             1                0                  0  \n",
       "1             0                0                  0  \n",
       "2             0                0                  0  \n",
       "3             0                0                  0  \n",
       "4             1                0                  0  \n",
       "\n",
       "[5 rows x 25 columns]"
      ]
     },
     "execution_count": 11,
     "metadata": {},
     "output_type": "execute_result"
    }
   ],
   "source": [
    "data2.head()"
   ]
  },
  {
   "cell_type": "code",
   "execution_count": 12,
   "metadata": {
    "collapsed": true
   },
   "outputs": [],
   "source": [
    "data2=data2[['clickTime','appactionCounts','appactionCountsbf']]"
   ]
  },
  {
   "cell_type": "code",
   "execution_count": 16,
   "metadata": {},
   "outputs": [],
   "source": [
    "data2.tail(3321748).to_csv('Features/appaction/test28_appaction.csv')"
   ]
  },
  {
   "cell_type": "code",
   "execution_count": 17,
   "metadata": {},
   "outputs": [
    {
     "data": {
      "text/plain": [
       "(21283135, 3)"
      ]
     },
     "execution_count": 17,
     "metadata": {},
     "output_type": "execute_result"
    }
   ],
   "source": [
    "data2.shape"
   ]
  },
  {
   "cell_type": "code",
   "execution_count": 18,
   "metadata": {
    "collapsed": true
   },
   "outputs": [],
   "source": [
    "data2=data2.head(21283135-3321748)"
   ]
  },
  {
   "cell_type": "code",
   "execution_count": 19,
   "metadata": {
    "collapsed": true
   },
   "outputs": [],
   "source": [
    "temp=(data2['clickTime']>=280000)&(data2['clickTime']<290000)"
   ]
  },
  {
   "cell_type": "code",
   "execution_count": 20,
   "metadata": {
    "collapsed": true
   },
   "outputs": [],
   "source": [
    "data2[temp].to_csv('Features/appaction/valid28_appaction.csv')"
   ]
  },
  {
   "cell_type": "code",
   "execution_count": 21,
   "metadata": {
    "collapsed": true
   },
   "outputs": [],
   "source": [
    "data2[~temp].to_csv('Features/appaction/train28_appaction.csv')"
   ]
  },
  {
   "cell_type": "code",
   "execution_count": 4,
   "metadata": {},
   "outputs": [],
   "source": [
    "app_action=pd.read_csv('Datasets/user_app_actions.csv')\n",
    "app_categories=pd.read_csv('Datasets/app_categories.csv')"
   ]
  },
  {
   "cell_type": "code",
   "execution_count": 5,
   "metadata": {
    "collapsed": true
   },
   "outputs": [],
   "source": [
    "app_action=pd.merge(app_action,app_categories,how='left')"
   ]
  },
  {
   "cell_type": "code",
   "execution_count": 8,
   "metadata": {},
   "outputs": [
    {
     "data": {
      "text/html": [
       "<div>\n",
       "<style>\n",
       "    .dataframe thead tr:only-child th {\n",
       "        text-align: right;\n",
       "    }\n",
       "\n",
       "    .dataframe thead th {\n",
       "        text-align: left;\n",
       "    }\n",
       "\n",
       "    .dataframe tbody tr th {\n",
       "        vertical-align: top;\n",
       "    }\n",
       "</style>\n",
       "<table border=\"1\" class=\"dataframe\">\n",
       "  <thead>\n",
       "    <tr style=\"text-align: right;\">\n",
       "      <th></th>\n",
       "      <th>userID</th>\n",
       "      <th>installTime</th>\n",
       "      <th>appID</th>\n",
       "      <th>appCategory</th>\n",
       "    </tr>\n",
       "  </thead>\n",
       "  <tbody>\n",
       "    <tr>\n",
       "      <th>0</th>\n",
       "      <td>1</td>\n",
       "      <td>18203243</td>\n",
       "      <td>933</td>\n",
       "      <td>106</td>\n",
       "    </tr>\n",
       "    <tr>\n",
       "      <th>1</th>\n",
       "      <td>5</td>\n",
       "      <td>14135449</td>\n",
       "      <td>589</td>\n",
       "      <td>109</td>\n",
       "    </tr>\n",
       "    <tr>\n",
       "      <th>2</th>\n",
       "      <td>5</td>\n",
       "      <td>25172753</td>\n",
       "      <td>565</td>\n",
       "      <td>203</td>\n",
       "    </tr>\n",
       "    <tr>\n",
       "      <th>3</th>\n",
       "      <td>5</td>\n",
       "      <td>26093226</td>\n",
       "      <td>596</td>\n",
       "      <td>106</td>\n",
       "    </tr>\n",
       "    <tr>\n",
       "      <th>4</th>\n",
       "      <td>5</td>\n",
       "      <td>26131830</td>\n",
       "      <td>536</td>\n",
       "      <td>104</td>\n",
       "    </tr>\n",
       "  </tbody>\n",
       "</table>\n",
       "</div>"
      ],
      "text/plain": [
       "   userID  installTime  appID  appCategory\n",
       "0       1     18203243    933          106\n",
       "1       5     14135449    589          109\n",
       "2       5     25172753    565          203\n",
       "3       5     26093226    596          106\n",
       "4       5     26131830    536          104"
      ]
     },
     "execution_count": 8,
     "metadata": {},
     "output_type": "execute_result"
    }
   ],
   "source": [
    "app_action.head()"
   ]
  },
  {
   "cell_type": "code",
   "execution_count": 9,
   "metadata": {
    "collapsed": true
   },
   "outputs": [],
   "source": [
    "app_action['cateClass']=app_action['appCategory']//100"
   ]
  },
  {
   "cell_type": "code",
   "execution_count": 12,
   "metadata": {},
   "outputs": [
    {
     "data": {
      "text/html": [
       "<div>\n",
       "<style>\n",
       "    .dataframe thead tr:only-child th {\n",
       "        text-align: right;\n",
       "    }\n",
       "\n",
       "    .dataframe thead th {\n",
       "        text-align: left;\n",
       "    }\n",
       "\n",
       "    .dataframe tbody tr th {\n",
       "        vertical-align: top;\n",
       "    }\n",
       "</style>\n",
       "<table border=\"1\" class=\"dataframe\">\n",
       "  <thead>\n",
       "    <tr style=\"text-align: right;\">\n",
       "      <th></th>\n",
       "      <th>userID</th>\n",
       "      <th>installTime</th>\n",
       "      <th>appID</th>\n",
       "      <th>appCategory</th>\n",
       "      <th>cateClass</th>\n",
       "      <th>usercateCounts</th>\n",
       "    </tr>\n",
       "  </thead>\n",
       "  <tbody>\n",
       "    <tr>\n",
       "      <th>0</th>\n",
       "      <td>1</td>\n",
       "      <td>18203243</td>\n",
       "      <td>933</td>\n",
       "      <td>106</td>\n",
       "      <td>1</td>\n",
       "      <td>11</td>\n",
       "    </tr>\n",
       "    <tr>\n",
       "      <th>1</th>\n",
       "      <td>5</td>\n",
       "      <td>14135449</td>\n",
       "      <td>589</td>\n",
       "      <td>109</td>\n",
       "      <td>1</td>\n",
       "      <td>51</td>\n",
       "    </tr>\n",
       "    <tr>\n",
       "      <th>2</th>\n",
       "      <td>5</td>\n",
       "      <td>25172753</td>\n",
       "      <td>565</td>\n",
       "      <td>203</td>\n",
       "      <td>2</td>\n",
       "      <td>52</td>\n",
       "    </tr>\n",
       "    <tr>\n",
       "      <th>3</th>\n",
       "      <td>5</td>\n",
       "      <td>26093226</td>\n",
       "      <td>596</td>\n",
       "      <td>106</td>\n",
       "      <td>1</td>\n",
       "      <td>51</td>\n",
       "    </tr>\n",
       "    <tr>\n",
       "      <th>4</th>\n",
       "      <td>5</td>\n",
       "      <td>26131830</td>\n",
       "      <td>536</td>\n",
       "      <td>104</td>\n",
       "      <td>1</td>\n",
       "      <td>51</td>\n",
       "    </tr>\n",
       "  </tbody>\n",
       "</table>\n",
       "</div>"
      ],
      "text/plain": [
       "   userID  installTime  appID  appCategory  cateClass  usercateCounts\n",
       "0       1     18203243    933          106          1              11\n",
       "1       5     14135449    589          109          1              51\n",
       "2       5     25172753    565          203          2              52\n",
       "3       5     26093226    596          106          1              51\n",
       "4       5     26131830    536          104          1              51"
      ]
     },
     "execution_count": 12,
     "metadata": {},
     "output_type": "execute_result"
    }
   ],
   "source": [
    "app_action.head()"
   ]
  },
  {
   "cell_type": "code",
   "execution_count": 11,
   "metadata": {
    "collapsed": true
   },
   "outputs": [],
   "source": [
    "app_action['usercateCounts']=app_action['userID']*10+app_action['cateClass']"
   ]
  },
  {
   "cell_type": "code",
   "execution_count": 14,
   "metadata": {},
   "outputs": [
    {
     "data": {
      "text/plain": [
       "(14588946,)"
      ]
     },
     "execution_count": 14,
     "metadata": {},
     "output_type": "execute_result"
    }
   ],
   "source": [
    "app_action['usercateCounts'].value_counts().shape"
   ]
  },
  {
   "cell_type": "code",
   "execution_count": null,
   "metadata": {
    "collapsed": true
   },
   "outputs": [],
   "source": []
  }
 ],
 "metadata": {
  "kernelspec": {
   "display_name": "Python 3",
   "language": "python",
   "name": "python3"
  },
  "language_info": {
   "codemirror_mode": {
    "name": "ipython",
    "version": 3
   },
   "file_extension": ".py",
   "mimetype": "text/x-python",
   "name": "python",
   "nbconvert_exporter": "python",
   "pygments_lexer": "ipython3",
   "version": "3.6.1"
  }
 },
 "nbformat": 4,
 "nbformat_minor": 2
}
