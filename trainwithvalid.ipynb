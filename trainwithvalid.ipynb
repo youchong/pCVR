{
 "cells": [
  {
   "cell_type": "code",
   "execution_count": 1,
   "metadata": {
    "collapsed": true
   },
   "outputs": [],
   "source": [
    "# data analysis and wrangling\n",
    "import pandas as pd\n",
    "import numpy as np\n",
    "import random as rnd\n",
    "\n",
    "# visualization\n",
    "import seaborn as sns\n",
    "import matplotlib.pyplot as plt\n",
    "%matplotlib inline\n",
    "\n",
    "# machine learning\n",
    "import lightgbm as lgb"
   ]
  },
  {
   "cell_type": "code",
   "execution_count": 2,
   "metadata": {
    "collapsed": true
   },
   "outputs": [],
   "source": [
    "train_data=lgb.Dataset('Features/finaldata/train28drop.csv')\n",
    "valid_data = train_data.create_valid('Features/finaldata/valid28drop.csv')"
   ]
  },
  {
   "cell_type": "code",
   "execution_count": 3,
   "metadata": {
    "collapsed": true
   },
   "outputs": [],
   "source": [
    "param={\n",
    "    'metric': 'binary_logloss',\n",
    "    'num_leaves':31,\n",
    "    'application':'binary',\n",
    "    'feature_fraction': .8,\n",
    "    'min_data_in_leaf':500,\n",
    "    'learning_rate': .05,\n",
    "    'bagging_fraction': .8,\n",
    "    'bagging_freq': 5,\n",
    "    'header':True,\n",
    "    'label':0\n",
    "}"
   ]
  },
  {
   "cell_type": "code",
   "execution_count": 4,
   "metadata": {},
   "outputs": [
    {
     "name": "stdout",
     "output_type": "stream",
     "text": [
      "Train until valid scores didn't improve in 50 rounds.\n",
      "[50]\tvalid_0's binary_logloss: 0.256836\n",
      "[100]\tvalid_0's binary_logloss: 0.148733\n",
      "[150]\tvalid_0's binary_logloss: 0.117644\n",
      "[200]\tvalid_0's binary_logloss: 0.108527\n",
      "[250]\tvalid_0's binary_logloss: 0.105582\n",
      "[300]\tvalid_0's binary_logloss: 0.104472\n",
      "[350]\tvalid_0's binary_logloss: 0.103953\n",
      "[400]\tvalid_0's binary_logloss: 0.103638\n",
      "[450]\tvalid_0's binary_logloss: 0.103471\n",
      "[500]\tvalid_0's binary_logloss: 0.103318\n",
      "[550]\tvalid_0's binary_logloss: 0.103224\n",
      "[600]\tvalid_0's binary_logloss: 0.103148\n",
      "[650]\tvalid_0's binary_logloss: 0.103102\n",
      "[700]\tvalid_0's binary_logloss: 0.103088\n",
      "[750]\tvalid_0's binary_logloss: 0.103139\n",
      "Early stopping, best iteration is:\n",
      "[725]\tvalid_0's binary_logloss: 0.103078\n"
     ]
    }
   ],
   "source": [
    "bst = lgb.train(\n",
    "    param,\n",
    "    train_data,\n",
    "    num_boost_round=10000,\n",
    "    valid_sets=valid_data,\n",
    "    early_stopping_rounds=50,\n",
    "    verbose_eval=50,    \n",
    ")"
   ]
  },
  {
   "cell_type": "code",
   "execution_count": 4,
   "metadata": {},
   "outputs": [
    {
     "name": "stdout",
     "output_type": "stream",
     "text": [
      "Train until valid scores didn't improve in 50 rounds.\n",
      "[50]\tvalid_0's binary_logloss: 0.128175\n",
      "[100]\tvalid_0's binary_logloss: 0.10554\n",
      "[150]\tvalid_0's binary_logloss: 0.103775\n",
      "[200]\tvalid_0's binary_logloss: 0.103356\n",
      "[250]\tvalid_0's binary_logloss: 0.103164\n",
      "[300]\tvalid_0's binary_logloss: 0.103107\n",
      "[350]\tvalid_0's binary_logloss: 0.102939\n",
      "[400]\tvalid_0's binary_logloss: 0.103011\n",
      "Early stopping, best iteration is:\n",
      "[352]\tvalid_0's binary_logloss: 0.102934\n"
     ]
    }
   ],
   "source": [
    "bst = lgb.train(\n",
    "    param,\n",
    "    train_data,\n",
    "    num_boost_round=10000,\n",
    "    valid_sets=valid_data,\n",
    "    early_stopping_rounds=50,\n",
    "    verbose_eval=50,    \n",
    ")\n"
   ]
  },
  {
   "cell_type": "code",
   "execution_count": 7,
   "metadata": {
    "collapsed": true
   },
   "outputs": [],
   "source": [
    "temp=pd.Series(bst.feature_importance(), bst.feature_name()).sort_values(ascending=False)"
   ]
  },
  {
   "cell_type": "code",
   "execution_count": 8,
   "metadata": {},
   "outputs": [
    {
     "data": {
      "text/plain": [
       "positionIDconvrate      1293\n",
       "creativeIDconvrate       760\n",
       "usaplast                 484\n",
       "positionIDCounts         385\n",
       "installedapCounts        354\n",
       "appID                    344\n",
       "appactionCounts          341\n",
       "appIDconvrate            290\n",
       "age                      269\n",
       "usapfirst                265\n",
       "advertiserID             257\n",
       "coapCounts               250\n",
       "uspolast                 250\n",
       "uspofirst                247\n",
       "adIDconvrate             246\n",
       "camgaignIDconvrate       244\n",
       "poapCounts               232\n",
       "appCategoryconvrate      213\n",
       "siapCounts               212\n",
       "appIDCounts              211\n",
       "advertiserIDconvrate     210\n",
       "positionType             204\n",
       "uscrlast                 189\n",
       "positionID               181\n",
       "appCategory              172\n",
       "connectionType           157\n",
       "usadlast                 155\n",
       "advertiserIDCounts       147\n",
       "sitesetID                121\n",
       "usadvlast                117\n",
       "appCategoryCounts        116\n",
       "uscalast                 115\n",
       "userIDCounts             113\n",
       "usadvfirst               112\n",
       "uscrfirst                112\n",
       "hometownconvrate         111\n",
       "installedusCounts        106\n",
       "creativeIDCounts         104\n",
       "cocrCounts                99\n",
       "usadfirst                 98\n",
       "hometown                  97\n",
       "gender                    96\n",
       "uscafirst                 81\n",
       "camgaignIDCounts          77\n",
       "camgaignID                66\n",
       "appactionCountsbf         65\n",
       "coadCounts                64\n",
       "residenceconvrate         52\n",
       "connectionTypeCounts      44\n",
       "positionTypeCounts        32\n",
       "dtype: int64"
      ]
     },
     "execution_count": 8,
     "metadata": {},
     "output_type": "execute_result"
    }
   ],
   "source": [
    "temp"
   ]
  },
  {
   "cell_type": "code",
   "execution_count": 9,
   "metadata": {
    "collapsed": true
   },
   "outputs": [],
   "source": [
    "test_data=pd.read_csv('Features/finaldata/testdrop.csv')"
   ]
  },
  {
   "cell_type": "code",
   "execution_count": 10,
   "metadata": {
    "collapsed": true
   },
   "outputs": [],
   "source": [
    "ypred = bst.predict(test_data)"
   ]
  },
  {
   "cell_type": "code",
   "execution_count": 11,
   "metadata": {},
   "outputs": [
    {
     "data": {
      "text/plain": [
       "array([  1.93709179e-02,   6.69207094e-04,   2.70639508e-05, ...,\n",
       "         4.48373641e-02,   6.30571178e-03,   3.03877961e-04])"
      ]
     },
     "execution_count": 11,
     "metadata": {},
     "output_type": "execute_result"
    }
   ],
   "source": [
    "ypred"
   ]
  },
  {
   "cell_type": "code",
   "execution_count": 12,
   "metadata": {},
   "outputs": [
    {
     "data": {
      "text/plain": [
       "0.024276384666615927"
      ]
     },
     "execution_count": 12,
     "metadata": {},
     "output_type": "execute_result"
    }
   ],
   "source": [
    "ypred.mean()"
   ]
  },
  {
   "cell_type": "code",
   "execution_count": 10,
   "metadata": {},
   "outputs": [
    {
     "data": {
      "text/plain": [
       "0.02429680455915724"
      ]
     },
     "execution_count": 10,
     "metadata": {},
     "output_type": "execute_result"
    }
   ],
   "source": [
    "ypred.mean()"
   ]
  },
  {
   "cell_type": "code",
   "execution_count": 10,
   "metadata": {},
   "outputs": [
    {
     "data": {
      "text/plain": [
       "0.02410146358951"
      ]
     },
     "execution_count": 10,
     "metadata": {},
     "output_type": "execute_result"
    }
   ],
   "source": [
    "ypred.mean()"
   ]
  },
  {
   "cell_type": "code",
   "execution_count": 10,
   "metadata": {},
   "outputs": [
    {
     "data": {
      "text/plain": [
       "0.024635689348634034"
      ]
     },
     "execution_count": 10,
     "metadata": {},
     "output_type": "execute_result"
    }
   ],
   "source": [
    "ypred.mean()"
   ]
  },
  {
   "cell_type": "code",
   "execution_count": 11,
   "metadata": {},
   "outputs": [
    {
     "data": {
      "text/plain": [
       "0.024542861009758821"
      ]
     },
     "execution_count": 11,
     "metadata": {},
     "output_type": "execute_result"
    }
   ],
   "source": [
    "ypred.mean()"
   ]
  },
  {
   "cell_type": "code",
   "execution_count": 8,
   "metadata": {},
   "outputs": [
    {
     "data": {
      "text/plain": [
       "0.024613231514475725"
      ]
     },
     "execution_count": 8,
     "metadata": {},
     "output_type": "execute_result"
    }
   ],
   "source": [
    "ypred.mean()"
   ]
  },
  {
   "cell_type": "code",
   "execution_count": 10,
   "metadata": {},
   "outputs": [
    {
     "data": {
      "text/plain": [
       "0.025955260415929719"
      ]
     },
     "execution_count": 10,
     "metadata": {},
     "output_type": "execute_result"
    }
   ],
   "source": [
    "ypred.mean()"
   ]
  },
  {
   "cell_type": "code",
   "execution_count": 11,
   "metadata": {
    "collapsed": true
   },
   "outputs": [],
   "source": [
    "instanceID=pd.read_csv('Features/instanceID.csv')"
   ]
  },
  {
   "cell_type": "code",
   "execution_count": 12,
   "metadata": {
    "collapsed": true
   },
   "outputs": [],
   "source": [
    "submission = pd.DataFrame({\n",
    "        \"instanceID\": instanceID[\"instanceID\"],\n",
    "        \"label\": ypred\n",
    "    })"
   ]
  },
  {
   "cell_type": "code",
   "execution_count": 15,
   "metadata": {
    "collapsed": true
   },
   "outputs": [],
   "source": [
    "def adj(x,te=0.0270,tr=0.0243):\n",
    "    a=te/tr\n",
    "    b=(1-te)/(1-tr)\n",
    "    return a*x/(a*x+b*(1-x))"
   ]
  },
  {
   "cell_type": "code",
   "execution_count": 16,
   "metadata": {},
   "outputs": [
    {
     "data": {
      "text/plain": [
       "0.026850421158745814"
      ]
     },
     "execution_count": 16,
     "metadata": {},
     "output_type": "execute_result"
    }
   ],
   "source": [
    "submission.label.map(adj).mean()"
   ]
  },
  {
   "cell_type": "code",
   "execution_count": 17,
   "metadata": {
    "collapsed": true
   },
   "outputs": [],
   "source": [
    "submission['label']=submission.label.map(adj)"
   ]
  },
  {
   "cell_type": "code",
   "execution_count": 18,
   "metadata": {
    "collapsed": true
   },
   "outputs": [],
   "source": [
    "submission.to_csv(\"Features/submissioms/submission6.csv\",index=False)"
   ]
  },
  {
   "cell_type": "code",
   "execution_count": null,
   "metadata": {
    "collapsed": true
   },
   "outputs": [],
   "source": []
  }
 ],
 "metadata": {
  "kernelspec": {
   "display_name": "Python 3",
   "language": "python",
   "name": "python3"
  },
  "language_info": {
   "codemirror_mode": {
    "name": "ipython",
    "version": 3
   },
   "file_extension": ".py",
   "mimetype": "text/x-python",
   "name": "python",
   "nbconvert_exporter": "python",
   "pygments_lexer": "ipython3",
   "version": "3.6.1"
  }
 },
 "nbformat": 4,
 "nbformat_minor": 2
}
